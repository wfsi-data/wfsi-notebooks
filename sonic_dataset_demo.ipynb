{
 "cells": [
  {
   "cell_type": "markdown",
   "id": "cd45aa1d",
   "metadata": {},
   "source": [
    "# WFSI Pilot Demo\n",
    "\n",
    "## Setup\n",
    "\n",
    "Import python libraries"
   ]
  },
  {
   "cell_type": "code",
   "execution_count": 1,
   "id": "b7b4678a",
   "metadata": {},
   "outputs": [],
   "source": [
    "from IPython.display import display\n",
    "\n",
    "import csv\n",
    "import itertools\n",
    "import math\n",
    "import matplotlib.pyplot as plt\n",
    "import numpy as np\n",
    "import os\n",
    "import pandas as pd\n",
    "import requests\n",
    "import shutil\n",
    "import tempfile\n",
    "import xarray as xr\n",
    "import xarray.plot as xplt\n",
    "import xml.etree.ElementTree as ET\n",
    "\n",
    "import urllib.request\n",
    "from urllib.request import Request, urlopen"
   ]
  },
  {
   "cell_type": "markdown",
   "id": "85fdce4d",
   "metadata": {},
   "source": [
    "### Configure WFSI pilot repository access\n",
    "\n",
    "Set access to WFSI Pilot Repository (https://portal.wfsi-data.lbl.gov/data).\n",
    "This notebook only works for publically available datasets."
   ]
  },
  {
   "cell_type": "code",
   "execution_count": 2,
   "id": "deb9d810",
   "metadata": {},
   "outputs": [],
   "source": [
    "repo_url = 'https://portal.wfsi-data.lbl.gov/catalog/d1/mn/v2/object/'\n",
    "\n",
    "# Get files from repo or use local files already acquired\n",
    "use_local_files = False"
   ]
  },
  {
   "cell_type": "markdown",
   "id": "0b9b3e34",
   "metadata": {},
   "source": [
    "### Configure local directories"
   ]
  },
  {
   "cell_type": "code",
   "execution_count": 3,
   "id": "8bc8040b",
   "metadata": {},
   "outputs": [
    {
     "name": "stdout",
     "output_type": "stream",
     "text": [
      "Data downloaded will be stored in <current_working_dir>\n"
     ]
    }
   ],
   "source": [
    "# configure a base directory, if left blank, the current working directory will be used.\n",
    "base_dir = None\n",
    "\n",
    "if not base_dir:\n",
    "    base_dir = os.getcwd()\n",
    "\n",
    "# if you would like to store the (meta)data files used, configure the local storage directory path. Otherwise leave as None.\n",
    "# local_storage = None\n",
    "local_storage = os.path.join(base_dir, 'data')\n",
    "\n",
    "# ---------------------------------------------------------------------------\n",
    "remove_data_files = False\n",
    "\n",
    "if not local_storage:\n",
    "    temp_dir = tempfile.mkdtemp()\n",
    "    local_storage = os.path.join(base_dir, temp_dir)\n",
    "    remove_data_files = True\n",
    "    \n",
    "if os.path.exists(local_storage):\n",
    "    print(f'Data downloaded will be stored in {local_storage}')\n",
    "else:\n",
    "    print(f'Specified storage directory {local_storage} does not exist. Create it before continuing!')"
   ]
  },
  {
   "cell_type": "markdown",
   "id": "533d326b",
   "metadata": {},
   "source": [
    "### Load functions"
   ]
  },
  {
   "cell_type": "code",
   "execution_count": 4,
   "id": "60ec6c81",
   "metadata": {},
   "outputs": [],
   "source": [
    "def retrieve_dataset_file(file_name, lookup, local_path=local_storage, repo_base_url=repo_url, local=use_local_files):\n",
    "    \"\"\" Retrieve a dataset file using the filename \"\"\"\n",
    "    local_file_path = os.path.join(local_path, file_name)\n",
    "    uuid = lookup.get(file_name)\n",
    "    \n",
    "    if local:\n",
    "        if not uuid:\n",
    "            print(f'No uuid found for file: {file_name}')\n",
    "        return local_file_path\n",
    "    elif not uuid:\n",
    "        print(f'No uuid found for file: {file_name}')\n",
    "        return False\n",
    "    \n",
    "    result, msg = retrieve_file_from_repo(uuid, local_file_path, repo_base_url)\n",
    "    \n",
    "    if not result:\n",
    "        print(msg)\n",
    "        return False\n",
    "    \n",
    "    file_path = os.path.join(local_path, file_name)\n",
    "    \n",
    "    if os.path.exists(file_path):\n",
    "        return file_path\n",
    "    \n",
    "    return False\n",
    "    \n",
    "def retrieve_file_from_repo(url_uuid, file_path, repo_base_url=repo_url):\n",
    "    \"\"\" Retrieve the data file \n",
    "        file_path includes file name.\n",
    "    \"\"\"\n",
    "    \n",
    "    file_url = url_uuid\n",
    "    if repo_base_url:\n",
    "        file_url = f'{repo_base_url}{url_uuid}'\n",
    "        \n",
    "    try:\n",
    "        urllib.request.urlretrieve(file_url, file_path)\n",
    "        return True, None\n",
    "    except Exception as e:\n",
    "        return False, f'File at url: {file_url} was not saved: {e}'\n",
    "    \n",
    "def parse_xml_file(file_path, prefix='urn-uuid-', replacement_prefix='urn:uuid:'):\n",
    "    \"\"\" Parse the xml file to create a lookup of filename and uuid \"\"\"\n",
    "    lookup = {}\n",
    "    \n",
    "    with open(file_path, 'r') as f:\n",
    "        tree = ET.parse(f)\n",
    "    \n",
    "    root = tree.getroot()\n",
    "    \n",
    "    count = 0\n",
    "    for element in root.findall('dataset/otherEntity'):\n",
    "        \n",
    "        value = element.get('id')\n",
    "        if prefix and value.startswith(prefix):\n",
    "            value = value.replace(prefix, replacement_prefix)\n",
    "        \n",
    "        key = None\n",
    "        name_element = element.find('entityName')\n",
    "        \n",
    "        if isinstance(name_element, ET.Element):\n",
    "            key = name_element.text\n",
    "        if key and value and isinstance(key, str) and isinstance(value, str):\n",
    "            lookup.update({key: value})\n",
    "            count += 1\n",
    "        else:\n",
    "            element_id = element.get('id')\n",
    "            print(f'{element.tag} with id: {element_id} could not be parsed.')\n",
    "            \n",
    "    print(f'{count} files successfully added to the lookup.')\n",
    "    \n",
    "    return lookup\n",
    "        \n",
    "def calc_speed(uvw):\n",
    "    \"\"\" Calculate 3D speed \"\"\"\n",
    "    if any(i is np.nan for i in uvw):\n",
    "        return np.nan\n",
    "    return math.sqrt(uvw[0]**2 + uvw[1]**2 + uvw[2]**2)\n",
    "\n",
    "def calc_horiz_speed(uvw):\n",
    "    \"\"\" Calculate speed in x-y plane. \"\"\"\n",
    "    if any(i is np.nan for i in uvw[0:1]):\n",
    "        return np.nan\n",
    "    return math.sqrt(uvw[0]**2 + uvw[1]**2)\n",
    "\n",
    "def calc_horiz_bearing(uvw):\n",
    "    \"\"\" Calculate bearing in x-y plane; \n",
    "        North = 0 deg, positive clockwise so that east = 90 deg, west = 270 deg \"\"\"\n",
    "    if any(i is np.nan for i in uvw[0:1]):\n",
    "        return np.nan\n",
    "    ang_rad = math.atan2(uvw[0], uvw[1])  # atan2(y, x), returns atan(y / x)\n",
    "    ang_deg = ang_rad * 180 / math.pi\n",
    "    if ang_deg < 0:\n",
    "        return ang_deg + 360\n",
    "    return ang_deg\n",
    "\n",
    "def calc_vert_direction(uvw):\n",
    "    \"\"\" Calculate vertical direction: 1 = up; 0 = none; -1 down \"\"\"\n",
    "    w = uvw[2]\n",
    "    if w is np.nan:\n",
    "        return np.nan\n",
    "    elif w == 0:\n",
    "        return 0\n",
    "    elif w > 0:\n",
    "        return 1\n",
    "    else:\n",
    "        return -1\n",
    "    \n",
    "def calc_vert_speed(uvw):\n",
    "    if uvw[2] is np.nan:\n",
    "        return np.nan\n",
    "    return abs(uvw[2])\n",
    "\n",
    "def make_dict_element(keys: list, values: list) -> dict:\n",
    "    \"\"\" Helper function to make dict elements \"\"\"\n",
    "    if len(keys) != len(values):\n",
    "        print('keys and values input lists are not the same length. Fail.')\n",
    "        return {}\n",
    "    dict_element = {}\n",
    "    for k, v in zip(keys, values):\n",
    "        if v:\n",
    "            dict_element[k] = v\n",
    "    return dict_element\n",
    "\n",
    "def read_csv_to_dict(filepath: str, encoding: str = 'utf-8', use_idx_key: bool = True, print_header: bool = True) -> dict:\n",
    "    \"\"\" Read a csv and convert it to a dictionary \"\"\"\n",
    "    csv_dict = {}\n",
    "    \n",
    "    with open(filepath, 'r', encoding=encoding) as f:\n",
    "        csv_file = csv.reader(f)\n",
    "        for idx, row in enumerate(csv_file):\n",
    "            if idx == 0:\n",
    "                header = row\n",
    "                if print_header:\n",
    "                    print(f'File header: {header}')\n",
    "                continue\n",
    "            if use_idx_key:\n",
    "                csv_dict.update({idx: make_dict_element(header, row)})\n",
    "                continue\n",
    "            csv_dict.update({row[0]: make_dict_element(header, row)})\n",
    "    \n",
    "    return header, csv_dict\n",
    "\n",
    "def gen_stats(dataset, var, dim_coord, max_threshold=10, error_code_var='error_code'):\n",
    "    \"\"\" Generate stats for a given variable in a xarray Dataset; return in a pandas DataFrame \"\"\"\n",
    "    data_array = dataset[var]\n",
    "    \n",
    "    max_val = data_array.max(dim=dim_coord)\n",
    "    max_val_time = data_array.idxmax(dim=dim_coord)\n",
    "\n",
    "    min_val = data_array.min(dim=dim_coord)\n",
    "    min_val_time = data_array.idxmin(dim=dim_coord)\n",
    "\n",
    "    missing_vals = data_array.isnull().sum(dim=dim_coord)\n",
    "    error_codes = dataset[error_code_var]\n",
    "    error_codes = error_codes.where(error_codes > 0).count(dim=dim_coord)\n",
    "    \n",
    "    threshold = data_array.where(data_array > max_threshold).count(dim=dim_coord)\n",
    "    \n",
    "    raw_stats = pd.DataFrame({'Sensor': max_val.id,\n",
    "                              f'max_{var}': max_val.to_series(), f'time_max_{var}': max_val_time.to_series(),\n",
    "                              f'{var}_count_over_{max_threshold}': threshold.to_series(),\n",
    "                              f'min_{var}': min_val.to_series(), f'time_min_{var}': min_val_time.to_series(),\n",
    "                              f'{var}_nan': missing_vals, f'{var}_errors': error_codes})\n",
    "    return raw_stats\n",
    "\n",
    "\n",
    "def get_id_indices(ds, sensors):\n",
    "    \"\"\" Convert ids to indices \"\"\"\n",
    "    ids = ds.id.to_series()\n",
    "\n",
    "    if not sensors:\n",
    "        return range(0, ids.shape[0])\n",
    "    else:\n",
    "        return ids[ids.isin(sensors)].index.to_list()"
   ]
  },
  {
   "cell_type": "markdown",
   "id": "a94430db",
   "metadata": {},
   "source": [
    "-------------------------------------------------------------------------------------\n",
    "-------------------------------------------------------------------------------------\n",
    "-------------------------------------------------------------------------------------\n",
    "\n",
    "## Load data package xml file\n",
    "\n",
    "From the dataset page on the repository, copy the unique identifier (uuid) under General > Identifier.\n",
    "\n",
    "Paste the uuid into the xml_uuid variable below."
   ]
  },
  {
   "cell_type": "code",
   "execution_count": 5,
   "id": "8f2b28fa",
   "metadata": {},
   "outputs": [],
   "source": [
    "# Set uuid (from dataset General Identifier)\n",
    "xml_uuid = 'urn:uuid:d2526b51-7d03-43df-8cf1-e2dd03ae0bad'\n",
    "\n",
    "xml_file_path = os.path.join(local_storage, 'dataset_metadata.xml')"
   ]
  },
  {
   "cell_type": "code",
   "execution_count": 6,
   "id": "efcd60ab",
   "metadata": {},
   "outputs": [
    {
     "name": "stdout",
     "output_type": "stream",
     "text": [
      "Success - metadata xml downloaded.\n"
     ]
    }
   ],
   "source": [
    "result, msg = retrieve_file_from_repo(xml_uuid, xml_file_path)\n",
    "\n",
    "if not msg:\n",
    "    print('Success - metadata xml downloaded.')\n",
    "else:\n",
    "    print(msg)"
   ]
  },
  {
   "cell_type": "markdown",
   "id": "fe53cdaa",
   "metadata": {},
   "source": [
    "Parse the xml file to create a lookup for the repository uuid codes for each data file in the dataset."
   ]
  },
  {
   "cell_type": "code",
   "execution_count": 7,
   "id": "04f734a6",
   "metadata": {},
   "outputs": [
    {
     "name": "stdout",
     "output_type": "stream",
     "text": [
      "86 files successfully added to the lookup.\n"
     ]
    }
   ],
   "source": [
    "xml_lookup = parse_xml_file(xml_file_path)\n",
    "\n",
    "if not xml_lookup:\n",
    "    print(f'Problem parsing xml_file: {xml_file}')"
   ]
  },
  {
   "cell_type": "code",
   "execution_count": 8,
   "id": "380657ec",
   "metadata": {},
   "outputs": [
    {
     "data": {
      "text/plain": [
       "'supplementary_data_81000V_90L.pdf -- urn:uuid:88afcf5c-e98f-4598-a7b3-48de5c294856'"
      ]
     },
     "metadata": {},
     "output_type": "display_data"
    },
    {
     "data": {
      "text/plain": [
       "'supplementary_data_visualizations_locations_Burn01_Plot.html -- urn:uuid:85bf6d8b-3ed4-4bec-9341-69a56d752784'"
      ]
     },
     "metadata": {},
     "output_type": "display_data"
    },
    {
     "data": {
      "text/plain": [
       "'metadata_locations_Plot_dd.csv -- urn:uuid:10ebdbae-0b59-4937-8c68-496fe5015bef'"
      ]
     },
     "metadata": {},
     "output_type": "display_data"
    },
    {
     "data": {
      "text/plain": [
       "'data_Sonic_dd.csv -- urn:uuid:99c06523-7461-471c-8fda-d21f27ed75b3'"
      ]
     },
     "metadata": {},
     "output_type": "display_data"
    },
    {
     "data": {
      "text/plain": [
       "'supplementary_data_Sonic_Error.csv -- urn:uuid:5c1ca05f-7d75-4c0b-bf10-a9c94b7a4327'"
      ]
     },
     "metadata": {},
     "output_type": "display_data"
    },
    {
     "data": {
      "text/plain": [
       "'supplementary_data_Sonic_Error_dd.csv -- urn:uuid:c9e9c322-efab-41c1-bf60-2a306ab23fdb'"
      ]
     },
     "metadata": {},
     "output_type": "display_data"
    },
    {
     "data": {
      "text/plain": [
       "'supplementary_data_visualizations_Sonic_Graphs_Burn01_Sonic_Graphs_Burn01_Sonic_A2_DIAG.html -- urn:uuid:6d0e942b-5a38-4dc9-a9fd-608c515d0e5d'"
      ]
     },
     "metadata": {},
     "output_type": "display_data"
    },
    {
     "data": {
      "text/plain": [
       "'supplementary_data_visualizations_Sonic_Graphs_Burn01_Sonic_Graphs_Burn01_Sonic_A3_DIAG.html -- urn:uuid:3c6ca6a9-deae-4102-a531-a8d0d75acf0e'"
      ]
     },
     "metadata": {},
     "output_type": "display_data"
    },
    {
     "data": {
      "text/plain": [
       "'supplementary_data_visualizations_Sonic_Graphs_Burn01_Sonic_Graphs_Burn01_Sonic_A4_DIAG.html -- urn:uuid:3fc21317-ca7c-4151-814f-a22242c68fd0'"
      ]
     },
     "metadata": {},
     "output_type": "display_data"
    },
    {
     "data": {
      "text/plain": [
       "'supplementary_data_visualizations_Sonic_Graphs_Burn01_Sonic_Graphs_Burn01_Sonic_B1_DIAG.html -- urn:uuid:766f4f0c-0bde-4624-bfbb-298b979192ff'"
      ]
     },
     "metadata": {},
     "output_type": "display_data"
    },
    {
     "data": {
      "text/plain": [
       "'supplementary_data_visualizations_Sonic_Graphs_Burn01_Sonic_Graphs_Burn01_Sonic_B2_DIAG.html -- urn:uuid:6d64a90b-fb5d-4020-8c56-e2c1d01aff47'"
      ]
     },
     "metadata": {},
     "output_type": "display_data"
    },
    {
     "data": {
      "text/plain": [
       "'supplementary_data_visualizations_Sonic_Graphs_Burn01_Sonic_Graphs_Burn01_Sonic_B3_DIAG.html -- urn:uuid:b8f32052-cd84-445d-91b8-5fbb11b462a2'"
      ]
     },
     "metadata": {},
     "output_type": "display_data"
    },
    {
     "data": {
      "text/plain": [
       "'supplementary_data_visualizations_Sonic_Graphs_Burn01_Sonic_Graphs_Burn01_Sonic_B4_DIAG.html -- urn:uuid:a055d6d0-b4c6-47cb-8122-403012792db9'"
      ]
     },
     "metadata": {},
     "output_type": "display_data"
    },
    {
     "data": {
      "text/plain": [
       "'supplementary_data_visualizations_Sonic_Graphs_Burn01_Sonic_Graphs_Burn01_Sonic_C1_DIAG.html -- urn:uuid:38b65b1b-965e-4018-8512-be1f090a9cf6'"
      ]
     },
     "metadata": {},
     "output_type": "display_data"
    },
    {
     "data": {
      "text/plain": [
       "'supplementary_data_visualizations_Sonic_Graphs_Burn01_Sonic_Graphs_Burn01_Sonic_C2_DIAG.html -- urn:uuid:78faedb2-1a40-4fe9-aeb0-263dea0a8d18'"
      ]
     },
     "metadata": {},
     "output_type": "display_data"
    },
    {
     "data": {
      "text/plain": [
       "'supplementary_data_visualizations_Sonic_Graphs_Burn01_Sonic_Graphs_Burn01_Sonic_C3_DIAG.html -- urn:uuid:5e0411a9-fee0-44de-bd9b-670addc4d648'"
      ]
     },
     "metadata": {},
     "output_type": "display_data"
    },
    {
     "data": {
      "text/plain": [
       "'supplementary_data_visualizations_Sonic_Graphs_Burn01_Sonic_Graphs_Burn01_Sonic_C4_DIAG.html -- urn:uuid:ea345674-2e33-4d5f-a5d9-a5f1eb748849'"
      ]
     },
     "metadata": {},
     "output_type": "display_data"
    },
    {
     "data": {
      "text/plain": [
       "'supplementary_data_visualizations_Sonic_Graphs_Burn01_Sonic_Graphs_Burn01_Sonic_CT_DIAG.html -- urn:uuid:e0560dae-ef90-4750-8d9d-1d96d72a981f'"
      ]
     },
     "metadata": {},
     "output_type": "display_data"
    },
    {
     "data": {
      "text/plain": [
       "'supplementary_data_visualizations_Sonic_Graphs_Burn01_Sonic_Graphs_Burn01_Sonic_D1_DIAG.html -- urn:uuid:347ecda6-f142-41c8-8321-e7028838049c'"
      ]
     },
     "metadata": {},
     "output_type": "display_data"
    },
    {
     "data": {
      "text/plain": [
       "'supplementary_data_visualizations_Sonic_Graphs_Burn01_Sonic_Graphs_Burn01_Sonic_D2_DIAG.html -- urn:uuid:8d713929-674d-4472-ac7d-78bc74e53306'"
      ]
     },
     "metadata": {},
     "output_type": "display_data"
    },
    {
     "data": {
      "text/plain": [
       "'supplementary_data_visualizations_Sonic_Graphs_Burn01_Sonic_Graphs_Burn01_Sonic_D3_DIAG.html -- urn:uuid:31b0214c-f3d1-43e9-aa00-776d7a34e788'"
      ]
     },
     "metadata": {},
     "output_type": "display_data"
    },
    {
     "data": {
      "text/plain": [
       "'supplementary_data_visualizations_Sonic_Graphs_Burn01_Sonic_Graphs_Burn01_Sonic_D4_DIAG.html -- urn:uuid:be2af7ff-fe49-4fa0-aa3f-35f7cc53b8da'"
      ]
     },
     "metadata": {},
     "output_type": "display_data"
    },
    {
     "data": {
      "text/plain": [
       "'supplementary_data_visualizations_Sonic_Graphs_Burn01_Sonic_Graphs_Burn01_Sonic_A1_DIAG.html -- urn:uuid:8249716e-6357-4bed-8756-43e3128f2af4'"
      ]
     },
     "metadata": {},
     "output_type": "display_data"
    },
    {
     "data": {
      "text/plain": [
       "'data_Burn01_Sonic_Burn01_Sonic_D4.csv -- urn:uuid:a635214a-606e-4f36-a992-5e2c503ff485'"
      ]
     },
     "metadata": {},
     "output_type": "display_data"
    },
    {
     "data": {
      "text/plain": [
       "'data_Burn01_Sonic_Burn01_Sonic_D3.csv -- urn:uuid:9109b33d-b9f2-4188-83eb-c7de7acf16c6'"
      ]
     },
     "metadata": {},
     "output_type": "display_data"
    },
    {
     "data": {
      "text/plain": [
       "'data_Burn01_Sonic_Burn01_Sonic_D2.csv -- urn:uuid:2aedd887-b129-4c43-9f5f-d4bbe0611e2b'"
      ]
     },
     "metadata": {},
     "output_type": "display_data"
    },
    {
     "data": {
      "text/plain": [
       "'data_Burn01_Sonic_Burn01_Sonic_D1.csv -- urn:uuid:51e36efc-d4d4-4c99-bb48-9521c4002dee'"
      ]
     },
     "metadata": {},
     "output_type": "display_data"
    },
    {
     "data": {
      "text/plain": [
       "'data_Burn01_Sonic_Burn01_Sonic_CT.csv -- urn:uuid:089b9b3c-94a6-4ae5-ba18-600d0c16b9eb'"
      ]
     },
     "metadata": {},
     "output_type": "display_data"
    },
    {
     "data": {
      "text/plain": [
       "'data_Burn01_Sonic_Burn01_Sonic_C4.csv -- urn:uuid:81a8b372-a605-463a-bbfb-c8a4ea8da68e'"
      ]
     },
     "metadata": {},
     "output_type": "display_data"
    },
    {
     "data": {
      "text/plain": [
       "'data_Burn01_Sonic_Burn01_Sonic_C3.csv -- urn:uuid:d9b42eec-e305-4e3f-865f-4d7cfe63d1ad'"
      ]
     },
     "metadata": {},
     "output_type": "display_data"
    },
    {
     "data": {
      "text/plain": [
       "'data_Burn01_Sonic_Burn01_Sonic_C2.csv -- urn:uuid:8514b3cb-a8be-42be-830b-64d139a86ed7'"
      ]
     },
     "metadata": {},
     "output_type": "display_data"
    },
    {
     "data": {
      "text/plain": [
       "'data_Burn01_Sonic_Burn01_Sonic_C1.csv -- urn:uuid:eefc4058-63a5-4fde-a556-f0dcdb5d6bd1'"
      ]
     },
     "metadata": {},
     "output_type": "display_data"
    },
    {
     "data": {
      "text/plain": [
       "'data_Burn01_Sonic_Burn01_Sonic_B4.csv -- urn:uuid:bade4377-7f25-4e43-ba79-54aa68dfe8ab'"
      ]
     },
     "metadata": {},
     "output_type": "display_data"
    },
    {
     "data": {
      "text/plain": [
       "'data_Burn01_Sonic_Burn01_Sonic_B3.csv -- urn:uuid:b6ea193d-ddc0-42e8-8350-d0b1a75129a5'"
      ]
     },
     "metadata": {},
     "output_type": "display_data"
    },
    {
     "data": {
      "text/plain": [
       "'data_Burn01_Sonic_Burn01_Sonic_B2.csv -- urn:uuid:fb6cff21-8524-495b-b8fa-4dff30c9d909'"
      ]
     },
     "metadata": {},
     "output_type": "display_data"
    },
    {
     "data": {
      "text/plain": [
       "'data_Burn01_Sonic_Burn01_Sonic_B1.csv -- urn:uuid:17941039-f266-4747-a891-0c951c9e0f3d'"
      ]
     },
     "metadata": {},
     "output_type": "display_data"
    },
    {
     "data": {
      "text/plain": [
       "'data_Burn01_Sonic_Burn01_Sonic_A4.csv -- urn:uuid:90d16f17-fe84-4564-8452-255a253a4f77'"
      ]
     },
     "metadata": {},
     "output_type": "display_data"
    },
    {
     "data": {
      "text/plain": [
       "'data_Burn01_Sonic_Burn01_Sonic_A3.csv -- urn:uuid:8b41c9bc-46ef-47c8-8336-2ad7c80a6713'"
      ]
     },
     "metadata": {},
     "output_type": "display_data"
    },
    {
     "data": {
      "text/plain": [
       "'data_Burn01_Sonic_Burn01_Sonic_A2.csv -- urn:uuid:c8c78e54-57bd-4581-876d-d8eaca16d229'"
      ]
     },
     "metadata": {},
     "output_type": "display_data"
    },
    {
     "data": {
      "text/plain": [
       "'data_Burn01_Sonic_Burn01_Sonic_A1.csv -- urn:uuid:875abae7-b108-4d95-83da-408146b417eb'"
      ]
     },
     "metadata": {},
     "output_type": "display_data"
    },
    {
     "data": {
      "text/plain": [
       "'metadata_ProjectDescription.pdf -- urn:uuid:e8e23be2-5e46-43b9-ad37-a53ef79f773a'"
      ]
     },
     "metadata": {},
     "output_type": "display_data"
    },
    {
     "data": {
      "text/plain": [
       "'metadata_Locations.png -- urn:uuid:7ffadad7-ae2c-4d1c-b683-6cc6c16b7388'"
      ]
     },
     "metadata": {},
     "output_type": "display_data"
    },
    {
     "data": {
      "text/plain": [
       "'metadata_DataDescription.pdf -- urn:uuid:838036d1-60fa-4ddc-8220-633742b4b2e7'"
      ]
     },
     "metadata": {},
     "output_type": "display_data"
    },
    {
     "data": {
      "text/plain": [
       "'metadata_BurnSummary.csv -- urn:uuid:f2ebb726-7522-49ce-b7e9-c1b2d712c6ed'"
      ]
     },
     "metadata": {},
     "output_type": "display_data"
    },
    {
     "data": {
      "text/plain": [
       "'metadata_BurnSummary_ref_IGN_SIDE_CD.csv -- urn:uuid:2c46c4da-4e88-4ed1-92bb-b78f5d38fbad'"
      ]
     },
     "metadata": {},
     "output_type": "display_data"
    },
    {
     "data": {
      "text/plain": [
       "'metadata_BurnSummary_ref_FUEL_DISP_CD.csv -- urn:uuid:f51a1cdd-7508-4940-bc26-0bce5b3f7914'"
      ]
     },
     "metadata": {},
     "output_type": "display_data"
    },
    {
     "data": {
      "text/plain": [
       "'metadata_BurnSummary_ref_FUEL_CD.csv -- urn:uuid:dcd28819-f3c6-4275-ac57-d5193390b916'"
      ]
     },
     "metadata": {},
     "output_type": "display_data"
    },
    {
     "data": {
      "text/plain": [
       "'metadata_BurnSummary_ref_FS_CD.csv -- urn:uuid:536aae33-75a9-42cd-9b79-d9d36dc04e7c'"
      ]
     },
     "metadata": {},
     "output_type": "display_data"
    },
    {
     "data": {
      "text/plain": [
       "'metadata_BurnSummary_ref_dd.csv -- urn:uuid:c6fe5a2b-5314-4be9-9309-e14fbecace03'"
      ]
     },
     "metadata": {},
     "output_type": "display_data"
    },
    {
     "data": {
      "text/plain": [
       "'metadata_BurnSummary_dd.csv -- urn:uuid:2725e5c4-695d-4e62-9f64-d3bb44e26a97'"
      ]
     },
     "metadata": {},
     "output_type": "display_data"
    },
    {
     "data": {
      "text/plain": [
       "'flmd.csv -- urn:uuid:04e2955d-b176-41d5-9e24-781201b961d6'"
      ]
     },
     "metadata": {},
     "output_type": "display_data"
    },
    {
     "data": {
      "text/plain": [
       "'metadata_locations_Burn12_Plot.csv -- urn:uuid:46361e65-7239-4d8b-8bac-30e65f530e2f'"
      ]
     },
     "metadata": {},
     "output_type": "display_data"
    },
    {
     "data": {
      "text/plain": [
       "'metadata_locations_Burn10_Plot.csv -- urn:uuid:73388c6f-c3da-4d19-8c23-e22358e2f6e2'"
      ]
     },
     "metadata": {},
     "output_type": "display_data"
    },
    {
     "data": {
      "text/plain": [
       "'metadata_locations_Burn09_Plot.csv -- urn:uuid:0ec837d0-a8f5-4644-bd6c-86a75c72a2ac'"
      ]
     },
     "metadata": {},
     "output_type": "display_data"
    },
    {
     "data": {
      "text/plain": [
       "'metadata_locations_Burn17_Plot.csv -- urn:uuid:fcced110-e5e1-41f4-8a35-389bcbc01a9d'"
      ]
     },
     "metadata": {},
     "output_type": "display_data"
    },
    {
     "data": {
      "text/plain": [
       "'metadata_locations_Burn15_Plot.csv -- urn:uuid:ce3bb5aa-9996-4b6d-8e04-984fbd8f5e8c'"
      ]
     },
     "metadata": {},
     "output_type": "display_data"
    },
    {
     "data": {
      "text/plain": [
       "'metadata_locations_Burn14_Plot.csv -- urn:uuid:db7f8618-2b52-4876-8823-d2cc2a1e788b'"
      ]
     },
     "metadata": {},
     "output_type": "display_data"
    },
    {
     "data": {
      "text/plain": [
       "'metadata_locations_Burn31_Plot.csv -- urn:uuid:ce859e8d-6b1c-41e1-a1ce-b0ace91c8f51'"
      ]
     },
     "metadata": {},
     "output_type": "display_data"
    },
    {
     "data": {
      "text/plain": [
       "'metadata_locations_Burn02_Plot.csv -- urn:uuid:71be742a-2af2-47ab-8209-f8234f023e91'"
      ]
     },
     "metadata": {},
     "output_type": "display_data"
    },
    {
     "data": {
      "text/plain": [
       "'metadata_locations_Burn01_Plot.csv -- urn:uuid:2dd9eab0-906b-44a9-b68a-5f461cf01e84'"
      ]
     },
     "metadata": {},
     "output_type": "display_data"
    },
    {
     "data": {
      "text/plain": [
       "'metadata_locations_Burn13_Plot.csv -- urn:uuid:b8c27dc3-1b8e-43ec-9eaa-a50321657b00'"
      ]
     },
     "metadata": {},
     "output_type": "display_data"
    },
    {
     "data": {
      "text/plain": [
       "'metadata_locations_Burn11_Plot.csv -- urn:uuid:4678b49c-1dec-41aa-a713-19e41b57c6e6'"
      ]
     },
     "metadata": {},
     "output_type": "display_data"
    },
    {
     "data": {
      "text/plain": [
       "'metadata_locations_Burn08_Plot.csv -- urn:uuid:cbdac490-35f2-4fe4-b3a5-214f3c67ff17'"
      ]
     },
     "metadata": {},
     "output_type": "display_data"
    },
    {
     "data": {
      "text/plain": [
       "'metadata_locations_Burn07_Plot.csv -- urn:uuid:291f0add-69cc-4d26-b450-755d532f9ba8'"
      ]
     },
     "metadata": {},
     "output_type": "display_data"
    },
    {
     "data": {
      "text/plain": [
       "'metadata_locations_Burn06_Plot.csv -- urn:uuid:02f8fd04-fa2d-42ca-8e37-0d2371322c1c'"
      ]
     },
     "metadata": {},
     "output_type": "display_data"
    },
    {
     "data": {
      "text/plain": [
       "'metadata_locations_Burn05_Plot.csv -- urn:uuid:2ecbe241-b1bc-4ad5-909b-dcb9dd416f98'"
      ]
     },
     "metadata": {},
     "output_type": "display_data"
    },
    {
     "data": {
      "text/plain": [
       "'metadata_locations_Burn04_Plot.csv -- urn:uuid:08609cb6-cc5d-4817-96b9-d6f2bfcf570f'"
      ]
     },
     "metadata": {},
     "output_type": "display_data"
    },
    {
     "data": {
      "text/plain": [
       "'metadata_locations_Burn03_Plot.csv -- urn:uuid:a4a9f74b-85d7-438e-974f-77446f0504a5'"
      ]
     },
     "metadata": {},
     "output_type": "display_data"
    },
    {
     "data": {
      "text/plain": [
       "'metadata_locations_Burn28_Plot.csv -- urn:uuid:1e64dd37-6b6f-4915-ac8b-16402e5e5781'"
      ]
     },
     "metadata": {},
     "output_type": "display_data"
    },
    {
     "data": {
      "text/plain": [
       "'metadata_locations_Burn27_Plot.csv -- urn:uuid:1a207772-4cff-4e15-a7fb-456586556420'"
      ]
     },
     "metadata": {},
     "output_type": "display_data"
    },
    {
     "data": {
      "text/plain": [
       "'metadata_locations_Burn26_Plot.csv -- urn:uuid:3ba88e7f-52aa-4663-87ec-8c0531e10688'"
      ]
     },
     "metadata": {},
     "output_type": "display_data"
    },
    {
     "data": {
      "text/plain": [
       "'metadata_locations_Burn25_Plot.csv -- urn:uuid:d0b9f3bd-222b-42ae-a06d-e8fc12fc839f'"
      ]
     },
     "metadata": {},
     "output_type": "display_data"
    },
    {
     "data": {
      "text/plain": [
       "'metadata_locations_Burn24_Plot.csv -- urn:uuid:7e8daa36-66be-4d41-94c3-85567c24fa17'"
      ]
     },
     "metadata": {},
     "output_type": "display_data"
    },
    {
     "data": {
      "text/plain": [
       "'metadata_locations_Burn23_Plot.csv -- urn:uuid:de149ef9-4388-4908-9e4c-77de613dd3b0'"
      ]
     },
     "metadata": {},
     "output_type": "display_data"
    },
    {
     "data": {
      "text/plain": [
       "'metadata_locations_Burn22_Plot.csv -- urn:uuid:e8fb3d52-1052-4e5b-9f3e-555605568b6a'"
      ]
     },
     "metadata": {},
     "output_type": "display_data"
    },
    {
     "data": {
      "text/plain": [
       "'metadata_locations_Burn21_Plot.csv -- urn:uuid:fbf10809-8504-4b2c-99bf-3897c4841e5e'"
      ]
     },
     "metadata": {},
     "output_type": "display_data"
    },
    {
     "data": {
      "text/plain": [
       "'metadata_locations_Burn20_Plot.csv -- urn:uuid:67f0d298-11e9-42c8-8b12-e9bdbf2b9539'"
      ]
     },
     "metadata": {},
     "output_type": "display_data"
    },
    {
     "data": {
      "text/plain": [
       "'metadata_locations_Burn19_Plot.csv -- urn:uuid:af632cf0-376a-4aa1-b21b-5083b89d9103'"
      ]
     },
     "metadata": {},
     "output_type": "display_data"
    },
    {
     "data": {
      "text/plain": [
       "'metadata_locations_Burn18_Plot.csv -- urn:uuid:95be72fb-bffc-4cc4-bee1-6821f139abe8'"
      ]
     },
     "metadata": {},
     "output_type": "display_data"
    },
    {
     "data": {
      "text/plain": [
       "'metadata_locations_Burn16_Plot.csv -- urn:uuid:4a7bd8e9-969a-4b3f-b750-87d68500b0a9'"
      ]
     },
     "metadata": {},
     "output_type": "display_data"
    },
    {
     "data": {
      "text/plain": [
       "'metadata_locations_Burn35_Plot.csv -- urn:uuid:c0d19bb6-7a3e-4a95-a98d-a0fe21254b0e'"
      ]
     },
     "metadata": {},
     "output_type": "display_data"
    },
    {
     "data": {
      "text/plain": [
       "'metadata_locations_Burn34_Plot.csv -- urn:uuid:43829697-01c4-4b46-b702-321edd2f4f75'"
      ]
     },
     "metadata": {},
     "output_type": "display_data"
    },
    {
     "data": {
      "text/plain": [
       "'metadata_locations_Burn33_Plot.csv -- urn:uuid:7ba7f13e-a07b-4bc6-ab8b-6ea493c7312e'"
      ]
     },
     "metadata": {},
     "output_type": "display_data"
    },
    {
     "data": {
      "text/plain": [
       "'metadata_locations_Burn32_Plot.csv -- urn:uuid:1c5b2068-3a53-49af-9f59-d225f68c79d4'"
      ]
     },
     "metadata": {},
     "output_type": "display_data"
    },
    {
     "data": {
      "text/plain": [
       "'metadata_locations_Burn30_Plot.csv -- urn:uuid:33a4868f-6a3a-4aa9-9da5-d6e360c4f429'"
      ]
     },
     "metadata": {},
     "output_type": "display_data"
    },
    {
     "data": {
      "text/plain": [
       "'metadata_locations_Burn29_Plot.csv -- urn:uuid:63d860fc-bd3d-4acf-91c6-754e622b0d21'"
      ]
     },
     "metadata": {},
     "output_type": "display_data"
    }
   ],
   "source": [
    "# Inspect xml_lookup if desired\n",
    "for k, v in xml_lookup.items():\n",
    "    display(f'{k} -- {v}')"
   ]
  },
  {
   "cell_type": "markdown",
   "id": "faed6090",
   "metadata": {},
   "source": [
    "## Data package navigation info\n",
    "\n",
    "Load and view file-level metadata description (flmd)."
   ]
  },
  {
   "cell_type": "code",
   "execution_count": 9,
   "id": "3c32c78a",
   "metadata": {},
   "outputs": [
    {
     "name": "stdout",
     "output_type": "stream",
     "text": [
      "File header: ['File_Name', 'File_Description', 'Standard', 'UTC_Offset', 'File_Version', 'Contact', 'Start_Date', 'End_Date', 'Northwest_Latitude_Coordinate', 'Northwest_Longitude_Coordinate', 'Southeast_Latitude_Coordinate', 'Southeast_Longitude_Coordinate', 'Latitude', 'Longitude', 'Missing_Value_Codes', 'Notes', 'Field_Name_Orientation']\n"
     ]
    }
   ],
   "source": [
    "flmd_path = retrieve_dataset_file('flmd.csv', xml_lookup)\n",
    "flmd_header, flmd = read_csv_to_dict(flmd_path)"
   ]
  },
  {
   "cell_type": "markdown",
   "id": "a87410f4",
   "metadata": {},
   "source": [
    "### View file info: select metadata, data, supplementary_data"
   ]
  },
  {
   "cell_type": "code",
   "execution_count": 10,
   "id": "5e7e96d2",
   "metadata": {},
   "outputs": [
    {
     "data": {
      "text/plain": [
       "'Index 1: metadata_ProjectDescription.pdf - Description of project'"
      ]
     },
     "metadata": {},
     "output_type": "display_data"
    },
    {
     "data": {
      "text/plain": [
       "'Index 2: metadata_DataDescription.pdf - Description of sonic data'"
      ]
     },
     "metadata": {},
     "output_type": "display_data"
    },
    {
     "data": {
      "text/plain": [
       "'Index 3: metadata_Locations.png - Idealized rendering of equipment locations for 10 x 10m field experiments.'"
      ]
     },
     "metadata": {},
     "output_type": "display_data"
    },
    {
     "data": {
      "text/plain": [
       "'Index 4: metadata_BurnSummary.csv - General parameters of each burn experiment'"
      ]
     },
     "metadata": {},
     "output_type": "display_data"
    },
    {
     "data": {
      "text/plain": [
       "'Index 5: metadata_BurnSummary_dd.csv - Data Dictionary for BurnSummary.csv'"
      ]
     },
     "metadata": {},
     "output_type": "display_data"
    },
    {
     "data": {
      "text/plain": [
       "'Index 6: metadata_BurnSummary_ref_dd.csv - Data Dictionary for BurnSummary_ref-*.csv'"
      ]
     },
     "metadata": {},
     "output_type": "display_data"
    },
    {
     "data": {
      "text/plain": [
       "'Index 7: metadata_BurnSummary_ref-*.csv - Explanation of coded vocabularies used in the BurnSummary.csv data'"
      ]
     },
     "metadata": {},
     "output_type": "display_data"
    },
    {
     "data": {
      "text/plain": [
       "'Index 8: metadata_locations_Burn*_Plot.csv - coordinates to identify the specific location (X,Y,Z) of each sensor and important items including plot corners, center tower and trees within the plot'"
      ]
     },
     "metadata": {},
     "output_type": "display_data"
    },
    {
     "data": {
      "text/plain": [
       "'Index 9: metadata_locations_Plot_dd.csv - Data Dictionary for Burn*_Plot.csv files'"
      ]
     },
     "metadata": {},
     "output_type": "display_data"
    },
    {
     "data": {
      "text/plain": [
       "'Index 10: data_Sonic_dd.csv - Data Dictionary for /Burn*/Sonic*(_*).csv data files'"
      ]
     },
     "metadata": {},
     "output_type": "display_data"
    },
    {
     "data": {
      "text/plain": [
       "'Index 11: data_Burn*_Sonic_Burn*_Sonic*(_*).csv - Raw sonic data per burn, 10 Hz'"
      ]
     },
     "metadata": {},
     "output_type": "display_data"
    },
    {
     "data": {
      "text/plain": [
       "'Index 12: supplementary_data_visualizations_data_Burn*_Plot*_Sonic*(_*).html - html visualization of the raw sonic data per bern per sonic sensor'"
      ]
     },
     "metadata": {},
     "output_type": "display_data"
    },
    {
     "data": {
      "text/plain": [
       "'Index 13: supplementary_data_visualizations_locations_Burn*_Plot.html - htm visualization of the locations of plot features'"
      ]
     },
     "metadata": {},
     "output_type": "display_data"
    },
    {
     "data": {
      "text/plain": [
       "'Index 14: supplementary_data_Sonic_Error.csv - The percentage of missing data (NaN) and data with suspect diagnostic codes burns per burn per sonic'"
      ]
     },
     "metadata": {},
     "output_type": "display_data"
    },
    {
     "data": {
      "text/plain": [
       "'Index 15: supplementary_data_Sonic_Error_dd.csv - Data Dictionary for supplementary_data/Sonic_Error.csv file'"
      ]
     },
     "metadata": {},
     "output_type": "display_data"
    },
    {
     "data": {
      "text/plain": [
       "'Index 16: supplementary_data_81000V-90L.pdf - RM Young sonic manual'"
      ]
     },
     "metadata": {},
     "output_type": "display_data"
    }
   ],
   "source": [
    "info_type = 'all'  # enter all, metadata, data, supplementary_data\n",
    "\n",
    "for file_idx, file_info in flmd.items():\n",
    "    if info_type != 'all' and not file_info[flmd_header[0]].startswith(info_type):\n",
    "        continue\n",
    "    display(f'Index {file_idx}: {file_info[flmd_header[0]]} - {file_info[flmd_header[1]]}')"
   ]
  },
  {
   "cell_type": "code",
   "execution_count": 11,
   "id": "ceb5d754",
   "metadata": {},
   "outputs": [
    {
     "data": {
      "text/plain": [
       "{'File_Name': 'metadata_locations_Burn*_Plot.csv',\n",
       " 'File_Description': 'coordinates to identify the specific location (X,Y,Z) of each sensor and important items including plot corners, center tower and trees within the plot',\n",
       " 'Contact': 'Nicholas Skowronski',\n",
       " 'Northwest_Latitude_Coordinate': '39.91825',\n",
       " 'Northwest_Longitude_Coordinate': '-74.59796',\n",
       " 'Southeast_Latitude_Coordinate': '39.91591',\n",
       " 'Southeast_Longitude_Coordinate': '-74.59502',\n",
       " 'Latitude': '39.91774',\n",
       " 'Longitude': '-74.596422',\n",
       " 'Missing_Value_Codes': 'NaN',\n",
       " 'Field_Name_Orientation': 'horizontal'}"
      ]
     },
     "metadata": {},
     "output_type": "display_data"
    }
   ],
   "source": [
    "# View file-level metadata for specified data package element\n",
    "display(flmd[8])"
   ]
  },
  {
   "cell_type": "markdown",
   "id": "96058853",
   "metadata": {},
   "source": [
    "-------------------------------------------------------------------------------------\n",
    "\n",
    "## Select Burn\n",
    "\n",
    "Have a look at the burn summary. First load the file."
   ]
  },
  {
   "cell_type": "code",
   "execution_count": 12,
   "id": "25c24936",
   "metadata": {},
   "outputs": [
    {
     "name": "stdout",
     "output_type": "stream",
     "text": [
      "File header: ['BURN', 'CAMPAIGN', 'BURN_GRP', 'PLOT_NUM', 'DATE', 'BTZ_START', 'BTZ_END', 'AT_START', 'BT_START', 'AT_END', 'COMPLETE', 'FS_CD', 'AMB_TEMP', 'RH', 'WIND_SPEED', 'MAX_WIND', 'WIND_DIR', 'FUEL_CD', 'FUEL_LOAD', 'FC_CD', 'FUEL_HGT', 'IGN_SIDE_CD', 'NOTES', 'REVIEW_COMMENTS']\n"
     ]
    }
   ],
   "source": [
    "burn_summary_path = retrieve_dataset_file('metadata_BurnSummary.csv', xml_lookup)\n",
    "bs_header, burn_summary = read_csv_to_dict(burn_summary_path, use_idx_key=False)"
   ]
  },
  {
   "cell_type": "markdown",
   "id": "9750081a",
   "metadata": {},
   "source": [
    "Inspect some of the burns.\n",
    "\n",
    "**CONSIDER**: good place to incorporate data dictionaries to extract units and match up controlled vocab."
   ]
  },
  {
   "cell_type": "code",
   "execution_count": 13,
   "id": "bdf2e955",
   "metadata": {},
   "outputs": [
    {
     "data": {
      "text/plain": [
       "'1: 3/5/2018 - Temp: 5.4 - RH: 43.3'"
      ]
     },
     "metadata": {},
     "output_type": "display_data"
    },
    {
     "data": {
      "text/plain": [
       "'2: 3/6/2018 - Temp: 6.5 - RH: 42.8'"
      ]
     },
     "metadata": {},
     "output_type": "display_data"
    },
    {
     "data": {
      "text/plain": [
       "'19: 9/22/2018 - Temp: 19.2 - RH: 61.6'"
      ]
     },
     "metadata": {},
     "output_type": "display_data"
    },
    {
     "name": "stdout",
     "output_type": "stream",
     "text": [
      "Did not find burn 88\n"
     ]
    }
   ],
   "source": [
    "burn_list = [1, 2, 19, 88]\n",
    "\n",
    "for burn_no in burn_list:\n",
    "    burn_info = burn_summary.get(str(burn_no))\n",
    "    if not burn_info:\n",
    "        print(f'Did not find burn {burn_no}')\n",
    "        continue\n",
    "    display(f'{burn_no}: {burn_info[\"DATE\"]} - Temp: {burn_info[\"AMB_TEMP\"]} - RH: {burn_info[\"RH\"]}')"
   ]
  },
  {
   "cell_type": "markdown",
   "id": "e4757d2d",
   "metadata": {},
   "source": [
    "**---- Select Burn ----**"
   ]
  },
  {
   "cell_type": "code",
   "execution_count": 14,
   "id": "74cc2ea0",
   "metadata": {},
   "outputs": [
    {
     "name": "stdout",
     "output_type": "stream",
     "text": [
      "Burn 01 selected for the analyses below.\n"
     ]
    }
   ],
   "source": [
    "burn_id = '01'\n",
    "\n",
    "print(f'Burn {burn_id} selected for the analyses below.')"
   ]
  },
  {
   "cell_type": "markdown",
   "id": "03ea7e4f",
   "metadata": {},
   "source": [
    "-------------------------------------------------------------------------------------\n",
    "\n",
    "## Plot sensor locations and heights"
   ]
  },
  {
   "cell_type": "code",
   "execution_count": 15,
   "id": "16792dd5",
   "metadata": {},
   "outputs": [
    {
     "name": "stdout",
     "output_type": "stream",
     "text": [
      "File header: ['Column_or_Row_Name', 'Unit', 'Definition', 'Column_or_Row_Long_Name', 'Data_Type']\n"
     ]
    }
   ],
   "source": [
    "# import locations dd file\n",
    "locations_dd_path = retrieve_dataset_file('metadata_locations_Plot_dd.csv', xml_lookup)\n",
    "dd_headers, locations_dd = read_csv_to_dict(locations_dd_path)"
   ]
  },
  {
   "cell_type": "code",
   "execution_count": 16,
   "id": "91fff9a6",
   "metadata": {},
   "outputs": [
    {
     "data": {
      "text/plain": [
       "'LABEL - Unit: None - Definition: Item label.'"
      ]
     },
     "metadata": {},
     "output_type": "display_data"
    },
    {
     "data": {
      "text/plain": [
       "'ITEM - Unit: None - Definition: Item type.'"
      ]
     },
     "metadata": {},
     "output_type": "display_data"
    },
    {
     "data": {
      "text/plain": [
       "'PLATFORM_TYPE - Unit: None - Definition: Platform type where the item was located (Center Tower, Ground and Truss).'"
      ]
     },
     "metadata": {},
     "output_type": "display_data"
    },
    {
     "data": {
      "text/plain": [
       "'PLATFORM - Unit: None - Definition: The platform where the item located.'"
      ]
     },
     "metadata": {},
     "output_type": "display_data"
    },
    {
     "data": {
      "text/plain": [
       "'LOC - Unit: None - Definition: The location on the platform.'"
      ]
     },
     "metadata": {},
     "output_type": "display_data"
    },
    {
     "data": {
      "text/plain": [
       "'SUBLOC - Unit: None - Definition: The sublocation within the location on the platform.'"
      ]
     },
     "metadata": {},
     "output_type": "display_data"
    },
    {
     "data": {
      "text/plain": [
       "'X - Unit: m - Definition: X coordinate (meters) in local coordinate system.'"
      ]
     },
     "metadata": {},
     "output_type": "display_data"
    },
    {
     "data": {
      "text/plain": [
       "'Y - Unit: m - Definition: Y coordinate (meters) in local coordinate system.'"
      ]
     },
     "metadata": {},
     "output_type": "display_data"
    },
    {
     "data": {
      "text/plain": [
       "'Z - Unit: m - Definition: Height above the ground (meters).'"
      ]
     },
     "metadata": {},
     "output_type": "display_data"
    },
    {
     "data": {
      "text/plain": [
       "'NOTES - Unit: None - Definition: Notes.'"
      ]
     },
     "metadata": {},
     "output_type": "display_data"
    }
   ],
   "source": [
    "# print dd info if needed\n",
    "for loc_dd in locations_dd.values():\n",
    "    display(f'{loc_dd.get(dd_headers[0])} - Unit: {loc_dd.get(dd_headers[1])} - Definition: {loc_dd.get(dd_headers[2])}')"
   ]
  },
  {
   "cell_type": "code",
   "execution_count": 17,
   "id": "7c603e76",
   "metadata": {},
   "outputs": [
    {
     "name": "stdout",
     "output_type": "stream",
     "text": [
      "Items in plot locations: {'Center Tower', 'Pressure Sensor', 'Plot Corner', 'Sonic', 'Tree', 'IR Camera', 'Thermocouple', 'Krem Box'}\n"
     ]
    }
   ],
   "source": [
    "# import locations for specified burn\n",
    "locations_path = retrieve_dataset_file(f'metadata_locations_Burn{burn_id}_Plot.csv', xml_lookup)\n",
    "burn_locs = pd.read_csv(locations_path)\n",
    "\n",
    "unique_item_types = set()\n",
    "for i in burn_locs.loc[:, 'ITEM']:\n",
    "    unique_item_types.add(i)\n",
    "print(f'Items in plot locations: {unique_item_types}')"
   ]
  },
  {
   "cell_type": "code",
   "execution_count": 18,
   "id": "5d386df5",
   "metadata": {},
   "outputs": [
    {
     "data": {
      "image/png": "[encoded data removed]",
      "text/plain": [
       "<Figure size 1080x864 with 1 Axes>"
      ]
     },
     "metadata": {
      "needs_background": "light"
     },
     "output_type": "display_data"
    }
   ],
   "source": [
    "# set location headers - depending on dataset\n",
    "loc_headers = ('X', 'Y', 'Z', 'LABEL')\n",
    "\n",
    "# subset just the x, y, z locations and labels\n",
    "item_types = ['Plot Corner', 'Sonic']\n",
    "sonic_plot_locs = np.array(burn_locs.query(f'ITEM in {item_types}').loc[:, loc_headers])\n",
    "\n",
    "# configure info for the axes\n",
    "x_min_max = [sonic_plot_locs[:, 0].min(), sonic_plot_locs[:, 0].max()]\n",
    "y_min_max = [sonic_plot_locs[:, 1].min(), sonic_plot_locs[:, 1].max()]\n",
    "buffer = 0.1 * (max((x_min_max[1], y_min_max[1])) - min((x_min_max[0], y_min_max[0])))\n",
    "min_max = [min((x_min_max[0], y_min_max[0])) - buffer, max((x_min_max[1], y_min_max[1])) + buffer]\n",
    "\n",
    "# plot the locations\n",
    "loc_fig, loc_axs = plt.subplots(figsize=(15, 12))\n",
    "loc_axs.set_aspect('equal')\n",
    "loc_axs.set_xlim(min_max); loc_axs.set_ylim(min_max)\n",
    "for i in range(math.trunc(min_max[0]), math.trunc(min_max[1]) + 1):\n",
    "    plt.axhline(y=i, color='#eeeeee')\n",
    "    plt.axvline(x=i, color='#eeeeee')\n",
    "loc_axs.scatter(sonic_plot_locs[:, 0], sonic_plot_locs[:, 1], marker='o')\n",
    "for loc_set in sonic_plot_locs:\n",
    "    loc_axs.text(loc_set[0], loc_set[1], f'  {loc_set[3]}', {'ha': 'left', 'va': 'bottom'})\n",
    "    loc_axs.text(loc_set[0], loc_set[1], f'  {loc_set[2]}m', {'ha': 'left', 'va': 'top'})\n",
    "loc_axs.set_ylabel('northing')\n",
    "loc_axs.set_xlabel('easting')\n",
    "loc_axs.set_title(f'Burn {burn_id} Sonic locations with height', loc='left')\n",
    "plt.show()"
   ]
  },
  {
   "cell_type": "markdown",
   "id": "9e286da5",
   "metadata": {},
   "source": [
    "## Select Sonic Sensors"
   ]
  },
  {
   "cell_type": "code",
   "execution_count": 19,
   "id": "24b8c966",
   "metadata": {},
   "outputs": [
    {
     "name": "stdout",
     "output_type": "stream",
     "text": [
      "Burn 01 sonic sensor ids installed: ['A1', 'A2', 'A3', 'A4', 'B1', 'B2', 'B3', 'B4', 'C1', 'C2', 'C3', 'C4', 'CT', 'D1', 'D2', 'D3', 'D4']\n"
     ]
    }
   ],
   "source": [
    "sonic_sensor_ids = []\n",
    "\n",
    "for fn in xml_lookup.keys():\n",
    "    if fn.endswith('_Sonic_Control.csv') and f'data_Burn{burn_id}_Sonic' in fn:\n",
    "        sonic_sensor_ids.append('Control')\n",
    "\n",
    "# sensors installed\n",
    "for loc_set in sonic_plot_locs:\n",
    "    if loc_set[3].startswith('Sonic'):\n",
    "        sonic_sensor_ids.append('_'.join(loc_set[3].split('_')[1:]))\n",
    "                   \n",
    "print(f'Burn {burn_id} sonic sensor ids installed: {sonic_sensor_ids}')"
   ]
  },
  {
   "cell_type": "code",
   "execution_count": 20,
   "id": "781f9c53",
   "metadata": {},
   "outputs": [
    {
     "name": "stdout",
     "output_type": "stream",
     "text": [
      "Selected sensors: ['A1', 'A2', 'A3', 'A4', 'B1', 'B2', 'B3', 'B4', 'C1', 'C2', 'C3', 'C4', 'CT', 'D1', 'D2', 'D3', 'D4']\n"
     ]
    }
   ],
   "source": [
    "sonic_sensors = []  # if all, leave list empty\n",
    "exclude_sensors = []  # Add sensor identifiers to exclude\n",
    "\n",
    "if not sonic_sensors:\n",
    "    sonic_sensors = sonic_sensor_ids\n",
    "    \n",
    "for sensor_id in exclude_sensors:\n",
    "    sonic_sensors.pop(sensor_id)\n",
    "    \n",
    "print(f'Selected sensors: {sonic_sensors}')"
   ]
  },
  {
   "cell_type": "markdown",
   "id": "cd692dfa",
   "metadata": {},
   "source": [
    "-------------------------------------------------------------------------------------\n",
    "-------------------------------------------------------------------------------------\n",
    "\n",
    "\n",
    "## Combine raw data\n",
    "Read in the individual sensor files and build a xarray.Dataset"
   ]
  },
  {
   "cell_type": "code",
   "execution_count": 21,
   "id": "50ab9242",
   "metadata": {},
   "outputs": [
    {
     "name": "stdout",
     "output_type": "stream",
     "text": [
      "File header: ['Column_or_Row_Name', 'Unit', 'Definition', 'Column_or_Row_Long_Name', 'Data_Type']\n"
     ]
    }
   ],
   "source": [
    "# Look at data column headers\n",
    "data_dd_path = retrieve_dataset_file('data_Sonic_dd.csv', xml_lookup)\n",
    "dd_headers, data_dd = read_csv_to_dict(data_dd_path)"
   ]
  },
  {
   "cell_type": "code",
   "execution_count": 22,
   "id": "ab2b06fa",
   "metadata": {},
   "outputs": [
    {
     "data": {
      "text/plain": [
       "'TIMESTAMP - Unit: yyyy-MM-dd hh:mm:ss.0 - Definition: Local (EST) time adjusted for daylight savings. Note in Excel, set the specified format (yyyy-MM-dd hh:mm:ss.0) using the custom category to view the data correctly.'"
      ]
     },
     "metadata": {},
     "output_type": "display_data"
    },
    {
     "data": {
      "text/plain": [
       "'RECORD - Unit: None - Definition: None'"
      ]
     },
     "metadata": {},
     "output_type": "display_data"
    },
    {
     "data": {
      "text/plain": [
       "'U - Unit: m/s - Definition: Positive values of x (+) indicate wind from the east, negative values (-) indicate wind from the west. (Multiply U by -1 to convert positive U values to indicate wind from the west and negative U values indicating wind from the east).'"
      ]
     },
     "metadata": {},
     "output_type": "display_data"
    },
    {
     "data": {
      "text/plain": [
       "'V - Unit: m/s - Definition: Positive values of y (+) indicate wind from the north, negative values (-) indicate wind from the south. (Multiply V by -1 to convert positive V values to indicate wind from the south and negative U values indicating wind from the north).'"
      ]
     },
     "metadata": {},
     "output_type": "display_data"
    },
    {
     "data": {
      "text/plain": [
       "'W - Unit: m/s - Definition: Positive values of z (+) indicate upward wind direction, negative values (-) indicate downward wind direction.'"
      ]
     },
     "metadata": {},
     "output_type": "display_data"
    },
    {
     "data": {
      "text/plain": [
       "'T - Unit: deg C - Definition: calculated from speed of sound measurements in degrees Celsius (±2 deg C).'"
      ]
     },
     "metadata": {},
     "output_type": "display_data"
    },
    {
     "data": {
      "text/plain": [
       "'DIAG - Unit: None - Definition: Sonic diagnostic code (0 – valid, non-zero code – invalid measurement) as described in the manual.'"
      ]
     },
     "metadata": {},
     "output_type": "display_data"
    }
   ],
   "source": [
    "# print dd info if needed\n",
    "for dd in data_dd.values():\n",
    "    display(f'{dd.get(dd_headers[0])} - Unit: {dd.get(dd_headers[1])} - Definition: {dd.get(dd_headers[2])}')"
   ]
  },
  {
   "cell_type": "code",
   "execution_count": 23,
   "id": "3c01a92e",
   "metadata": {},
   "outputs": [],
   "source": [
    "# Set the column names using data dictionary\n",
    "wind_components = ['U', 'V', 'W']\n",
    "error_code_header = 'DIAG'\n",
    "loc_dim = 'loc'"
   ]
  },
  {
   "cell_type": "code",
   "execution_count": 24,
   "id": "b0f62823",
   "metadata": {},
   "outputs": [
    {
     "data": {
      "text/plain": [
       "['data_Burn01_Sonic_Burn01_Sonic_A1.csv',\n",
       " 'data_Burn01_Sonic_Burn01_Sonic_A2.csv',\n",
       " 'data_Burn01_Sonic_Burn01_Sonic_A3.csv',\n",
       " 'data_Burn01_Sonic_Burn01_Sonic_A4.csv',\n",
       " 'data_Burn01_Sonic_Burn01_Sonic_B1.csv',\n",
       " 'data_Burn01_Sonic_Burn01_Sonic_B2.csv',\n",
       " 'data_Burn01_Sonic_Burn01_Sonic_B3.csv',\n",
       " 'data_Burn01_Sonic_Burn01_Sonic_B4.csv',\n",
       " 'data_Burn01_Sonic_Burn01_Sonic_C1.csv',\n",
       " 'data_Burn01_Sonic_Burn01_Sonic_C2.csv',\n",
       " 'data_Burn01_Sonic_Burn01_Sonic_C3.csv',\n",
       " 'data_Burn01_Sonic_Burn01_Sonic_C4.csv',\n",
       " 'data_Burn01_Sonic_Burn01_Sonic_CT.csv',\n",
       " 'data_Burn01_Sonic_Burn01_Sonic_D1.csv',\n",
       " 'data_Burn01_Sonic_Burn01_Sonic_D2.csv',\n",
       " 'data_Burn01_Sonic_Burn01_Sonic_D3.csv',\n",
       " 'data_Burn01_Sonic_Burn01_Sonic_D4.csv']"
      ]
     },
     "metadata": {},
     "output_type": "display_data"
    }
   ],
   "source": [
    "# Get a list of the data files that match the data file structure (see flmd)\n",
    "sensor_file_list = []\n",
    "for fn in xml_lookup.keys():\n",
    "    if fn.startswith(f'data_Burn{burn_id}_Sonic_'):\n",
    "        sensor_file_list.append(fn)\n",
    "sensor_file_list.sort()\n",
    "\n",
    "display(sensor_file_list)"
   ]
  },
  {
   "cell_type": "markdown",
   "id": "213ff193",
   "metadata": {},
   "source": [
    "Process the raw data, i.e., combine it across sensors."
   ]
  },
  {
   "cell_type": "code",
   "execution_count": 25,
   "id": "385f7e28",
   "metadata": {},
   "outputs": [
    {
     "data": {
      "text/plain": [
       "'Processing A1: /Users/dsc/Documents/LBNL/wfsi/wfsi_demo/sonic_demo/data/data_Burn01_Sonic_Burn01_Sonic_A1.csv'"
      ]
     },
     "metadata": {},
     "output_type": "display_data"
    },
    {
     "data": {
      "text/plain": [
       "'Processing A2: /Users/dsc/Documents/LBNL/wfsi/wfsi_demo/sonic_demo/data/data_Burn01_Sonic_Burn01_Sonic_A2.csv'"
      ]
     },
     "metadata": {},
     "output_type": "display_data"
    },
    {
     "data": {
      "text/plain": [
       "'Processing A3: /Users/dsc/Documents/LBNL/wfsi/wfsi_demo/sonic_demo/data/data_Burn01_Sonic_Burn01_Sonic_A3.csv'"
      ]
     },
     "metadata": {},
     "output_type": "display_data"
    },
    {
     "data": {
      "text/plain": [
       "'Processing A4: /Users/dsc/Documents/LBNL/wfsi/wfsi_demo/sonic_demo/data/data_Burn01_Sonic_Burn01_Sonic_A4.csv'"
      ]
     },
     "metadata": {},
     "output_type": "display_data"
    },
    {
     "data": {
      "text/plain": [
       "'Processing B1: /Users/dsc/Documents/LBNL/wfsi/wfsi_demo/sonic_demo/data/data_Burn01_Sonic_Burn01_Sonic_B1.csv'"
      ]
     },
     "metadata": {},
     "output_type": "display_data"
    },
    {
     "data": {
      "text/plain": [
       "'Processing B2: /Users/dsc/Documents/LBNL/wfsi/wfsi_demo/sonic_demo/data/data_Burn01_Sonic_Burn01_Sonic_B2.csv'"
      ]
     },
     "metadata": {},
     "output_type": "display_data"
    },
    {
     "data": {
      "text/plain": [
       "'Processing B3: /Users/dsc/Documents/LBNL/wfsi/wfsi_demo/sonic_demo/data/data_Burn01_Sonic_Burn01_Sonic_B3.csv'"
      ]
     },
     "metadata": {},
     "output_type": "display_data"
    },
    {
     "data": {
      "text/plain": [
       "'Processing B4: /Users/dsc/Documents/LBNL/wfsi/wfsi_demo/sonic_demo/data/data_Burn01_Sonic_Burn01_Sonic_B4.csv'"
      ]
     },
     "metadata": {},
     "output_type": "display_data"
    },
    {
     "data": {
      "text/plain": [
       "'Processing C1: /Users/dsc/Documents/LBNL/wfsi/wfsi_demo/sonic_demo/data/data_Burn01_Sonic_Burn01_Sonic_C1.csv'"
      ]
     },
     "metadata": {},
     "output_type": "display_data"
    },
    {
     "data": {
      "text/plain": [
       "'Processing C2: /Users/dsc/Documents/LBNL/wfsi/wfsi_demo/sonic_demo/data/data_Burn01_Sonic_Burn01_Sonic_C2.csv'"
      ]
     },
     "metadata": {},
     "output_type": "display_data"
    },
    {
     "data": {
      "text/plain": [
       "'Processing C3: /Users/dsc/Documents/LBNL/wfsi/wfsi_demo/sonic_demo/data/data_Burn01_Sonic_Burn01_Sonic_C3.csv'"
      ]
     },
     "metadata": {},
     "output_type": "display_data"
    },
    {
     "data": {
      "text/plain": [
       "'Processing C4: /Users/dsc/Documents/LBNL/wfsi/wfsi_demo/sonic_demo/data/data_Burn01_Sonic_Burn01_Sonic_C4.csv'"
      ]
     },
     "metadata": {},
     "output_type": "display_data"
    },
    {
     "data": {
      "text/plain": [
       "'Processing CT: /Users/dsc/Documents/LBNL/wfsi/wfsi_demo/sonic_demo/data/data_Burn01_Sonic_Burn01_Sonic_CT.csv'"
      ]
     },
     "metadata": {},
     "output_type": "display_data"
    },
    {
     "data": {
      "text/plain": [
       "'Processing D1: /Users/dsc/Documents/LBNL/wfsi/wfsi_demo/sonic_demo/data/data_Burn01_Sonic_Burn01_Sonic_D1.csv'"
      ]
     },
     "metadata": {},
     "output_type": "display_data"
    },
    {
     "data": {
      "text/plain": [
       "'Processing D2: /Users/dsc/Documents/LBNL/wfsi/wfsi_demo/sonic_demo/data/data_Burn01_Sonic_Burn01_Sonic_D2.csv'"
      ]
     },
     "metadata": {},
     "output_type": "display_data"
    },
    {
     "data": {
      "text/plain": [
       "'Processing D3: /Users/dsc/Documents/LBNL/wfsi/wfsi_demo/sonic_demo/data/data_Burn01_Sonic_Burn01_Sonic_D3.csv'"
      ]
     },
     "metadata": {},
     "output_type": "display_data"
    },
    {
     "data": {
      "text/plain": [
       "'Processing D4: /Users/dsc/Documents/LBNL/wfsi/wfsi_demo/sonic_demo/data/data_Burn01_Sonic_Burn01_Sonic_D4.csv'"
      ]
     },
     "metadata": {},
     "output_type": "display_data"
    }
   ],
   "source": [
    "# initiate a temporary dictionary to build the combined data\n",
    "all_raw_data = {}\n",
    "raw_uvw = []\n",
    "loc_data = {}\n",
    "\n",
    "for file_idx, sensor_file in enumerate(sensor_file_list):\n",
    "    has_loc_info = False\n",
    "    file_pieces = sensor_file.split('.')[0].split('_')\n",
    "    sensor_id = file_pieces[-1] if len(file_pieces) == 6 else f'{file_pieces[-2]}_{file_pieces[-1]}'\n",
    "    if sensor_id not in sonic_sensors:\n",
    "        continue\n",
    "           \n",
    "    # read in the data file\n",
    "    sensor_file_path = retrieve_dataset_file(sensor_file, xml_lookup)\n",
    "    display(f'Processing {sensor_id}: {sensor_file_path}')\n",
    "    \n",
    "    try:\n",
    "        data = pd.read_csv(sensor_file_path)\n",
    "    except Exception as e:\n",
    "        display(f'Fail: {e}')\n",
    "        continue\n",
    "    \n",
    "    if remove_data_files:\n",
    "        # ToDo: add data file removal\n",
    "        pass\n",
    "    \n",
    "    uvw = np.array(data.loc[:, wind_components[0]:wind_components[2]])\n",
    "        \n",
    "    # set up pandas output dataframe\n",
    "    if file_idx == 0:\n",
    "        sensor_id0 = sensor_id\n",
    "        timeseries0 = data.loc[:, 'TIMESTAMP']\n",
    "        all_raw_data['time'] = pd.to_datetime(timeseries0)\n",
    "        \n",
    "    timeseries = data.loc[:, 'TIMESTAMP']\n",
    "    \n",
    "    if file_idx > 0:\n",
    "        if not timeseries.equals(timeseries0):\n",
    "            display(f'Sensor {sensor_id} timeseries {timeseries.shape} did not match initial sensor {sensor_id0}: Skipping file {sensor_file}')\n",
    "            display(data.loc[0:5, 'TIMESTAMP'])\n",
    "            continue\n",
    "    \n",
    "    raw_uvw.append(uvw)\n",
    "            \n",
    "    for wind_component in wind_components:\n",
    "        all_raw_data.setdefault(wind_component, []).append(data.loc[:, wind_component])\n",
    "    \n",
    "    all_raw_data.setdefault('sensor_id', []).append(sensor_id)\n",
    "    all_raw_data.setdefault('error_code', []).append(data.loc[:, error_code_header])\n",
    "    \n",
    "    \n",
    "    for x, y, z, label in sonic_plot_locs:\n",
    "        if sensor_id in label:\n",
    "            has_loc_info = True\n",
    "            break\n",
    "            \n",
    "    if not has_loc_info:\n",
    "        x, y, z = (-1, -1, 0)\n",
    "        display(f'Sensor ID {sensor_id} has no location')\n",
    "    \n",
    "    loc_data.setdefault('easting', []).append(x)\n",
    "    loc_data.setdefault('northing', []).append(y)\n",
    "    loc_data.setdefault('z', []).append(z)"
   ]
  },
  {
   "cell_type": "code",
   "execution_count": 26,
   "id": "c8de2c38",
   "metadata": {},
   "outputs": [
    {
     "data": {
      "text/html": [
       "<div><svg style=\"position: absolute; width: 0; height: 0; overflow: hidden\">\n",
       "<defs>\n",
       "<symbol id=\"icon-database\" viewBox=\"0 0 32 32\">\n",
       "<path d=\"M16 0c-8.837 0-16 2.239-16 5v4c0 2.761 7.163 5 16 5s16-2.239 16-5v-4c0-2.761-7.163-5-16-5z\"></path>\n",
       "<path d=\"M16 17c-8.837 0-16-2.239-16-5v6c0 2.761 7.163 5 16 5s16-2.239 16-5v-6c0 2.761-7.163 5-16 5z\"></path>\n",
       "<path d=\"M16 26c-8.837 0-16-2.239-16-5v6c0 2.761 7.163 5 16 5s16-2.239 16-5v-6c0 2.761-7.163 5-16 5z\"></path>\n",
       "</symbol>\n",
       "<symbol id=\"icon-file-text2\" viewBox=\"0 0 32 32\">\n",
       "<path d=\"M28.681 7.159c-0.694-0.947-1.662-2.053-2.724-3.116s-2.169-2.030-3.116-2.724c-1.612-1.182-2.393-1.319-2.841-1.319h-15.5c-1.378 0-2.5 1.121-2.5 2.5v27c0 1.378 1.122 2.5 2.5 2.5h23c1.378 0 2.5-1.122 2.5-2.5v-19.5c0-0.448-0.137-1.23-1.319-2.841zM24.543 5.457c0.959 0.959 1.712 1.825 2.268 2.543h-4.811v-4.811c0.718 0.556 1.584 1.309 2.543 2.268zM28 29.5c0 0.271-0.229 0.5-0.5 0.5h-23c-0.271 0-0.5-0.229-0.5-0.5v-27c0-0.271 0.229-0.5 0.5-0.5 0 0 15.499-0 15.5 0v7c0 0.552 0.448 1 1 1h7v19.5z\"></path>\n",
       "<path d=\"M23 26h-14c-0.552 0-1-0.448-1-1s0.448-1 1-1h14c0.552 0 1 0.448 1 1s-0.448 1-1 1z\"></path>\n",
       "<path d=\"M23 22h-14c-0.552 0-1-0.448-1-1s0.448-1 1-1h14c0.552 0 1 0.448 1 1s-0.448 1-1 1z\"></path>\n",
       "<path d=\"M23 18h-14c-0.552 0-1-0.448-1-1s0.448-1 1-1h14c0.552 0 1 0.448 1 1s-0.448 1-1 1z\"></path>\n",
       "</symbol>\n",
       "</defs>\n",
       "</svg>\n",
       "<style>/* CSS stylesheet for displaying xarray objects in jupyterlab.\n",
       " *\n",
       " */\n",
       "\n",
       ":root {\n",
       "  --xr-font-color0: var(--jp-content-font-color0, rgba(0, 0, 0, 1));\n",
       "  --xr-font-color2: var(--jp-content-font-color2, rgba(0, 0, 0, 0.54));\n",
       "  --xr-font-color3: var(--jp-content-font-color3, rgba(0, 0, 0, 0.38));\n",
       "  --xr-border-color: var(--jp-border-color2, #e0e0e0);\n",
       "  --xr-disabled-color: var(--jp-layout-color3, #bdbdbd);\n",
       "  --xr-background-color: var(--jp-layout-color0, white);\n",
       "  --xr-background-color-row-even: var(--jp-layout-color1, white);\n",
       "  --xr-background-color-row-odd: var(--jp-layout-color2, #eeeeee);\n",
       "}\n",
       "\n",
       "html[theme=dark],\n",
       "body[data-theme=dark],\n",
       "body.vscode-dark {\n",
       "  --xr-font-color0: rgba(255, 255, 255, 1);\n",
       "  --xr-font-color2: rgba(255, 255, 255, 0.54);\n",
       "  --xr-font-color3: rgba(255, 255, 255, 0.38);\n",
       "  --xr-border-color: #1F1F1F;\n",
       "  --xr-disabled-color: #515151;\n",
       "  --xr-background-color: #111111;\n",
       "  --xr-background-color-row-even: #111111;\n",
       "  --xr-background-color-row-odd: #313131;\n",
       "}\n",
       "\n",
       ".xr-wrap {\n",
       "  display: block !important;\n",
       "  min-width: 300px;\n",
       "  max-width: 700px;\n",
       "}\n",
       "\n",
       ".xr-text-repr-fallback {\n",
       "  /* fallback to plain text repr when CSS is not injected (untrusted notebook) */\n",
       "  display: none;\n",
       "}\n",
       "\n",
       ".xr-header {\n",
       "  padding-top: 6px;\n",
       "  padding-bottom: 6px;\n",
       "  margin-bottom: 4px;\n",
       "  border-bottom: solid 1px var(--xr-border-color);\n",
       "}\n",
       "\n",
       ".xr-header > div,\n",
       ".xr-header > ul {\n",
       "  display: inline;\n",
       "  margin-top: 0;\n",
       "  margin-bottom: 0;\n",
       "}\n",
       "\n",
       ".xr-obj-type,\n",
       ".xr-array-name {\n",
       "  margin-left: 2px;\n",
       "  margin-right: 10px;\n",
       "}\n",
       "\n",
       ".xr-obj-type {\n",
       "  color: var(--xr-font-color2);\n",
       "}\n",
       "\n",
       ".xr-sections {\n",
       "  padding-left: 0 !important;\n",
       "  display: grid;\n",
       "  grid-template-columns: 150px auto auto 1fr 20px 20px;\n",
       "}\n",
       "\n",
       ".xr-section-item {\n",
       "  display: contents;\n",
       "}\n",
       "\n",
       ".xr-section-item input {\n",
       "  display: none;\n",
       "}\n",
       "\n",
       ".xr-section-item input + label {\n",
       "  color: var(--xr-disabled-color);\n",
       "}\n",
       "\n",
       ".xr-section-item input:enabled + label {\n",
       "  cursor: pointer;\n",
       "  color: var(--xr-font-color2);\n",
       "}\n",
       "\n",
       ".xr-section-item input:enabled + label:hover {\n",
       "  color: var(--xr-font-color0);\n",
       "}\n",
       "\n",
       ".xr-section-summary {\n",
       "  grid-column: 1;\n",
       "  color: var(--xr-font-color2);\n",
       "  font-weight: 500;\n",
       "}\n",
       "\n",
       ".xr-section-summary > span {\n",
       "  display: inline-block;\n",
       "  padding-left: 0.5em;\n",
       "}\n",
       "\n",
       ".xr-section-summary-in:disabled + label {\n",
       "  color: var(--xr-font-color2);\n",
       "}\n",
       "\n",
       ".xr-section-summary-in + label:before {\n",
       "  display: inline-block;\n",
       "  content: '►';\n",
       "  font-size: 11px;\n",
       "  width: 15px;\n",
       "  text-align: center;\n",
       "}\n",
       "\n",
       ".xr-section-summary-in:disabled + label:before {\n",
       "  color: var(--xr-disabled-color);\n",
       "}\n",
       "\n",
       ".xr-section-summary-in:checked + label:before {\n",
       "  content: '▼';\n",
       "}\n",
       "\n",
       ".xr-section-summary-in:checked + label > span {\n",
       "  display: none;\n",
       "}\n",
       "\n",
       ".xr-section-summary,\n",
       ".xr-section-inline-details {\n",
       "  padding-top: 4px;\n",
       "  padding-bottom: 4px;\n",
       "}\n",
       "\n",
       ".xr-section-inline-details {\n",
       "  grid-column: 2 / -1;\n",
       "}\n",
       "\n",
       ".xr-section-details {\n",
       "  display: none;\n",
       "  grid-column: 1 / -1;\n",
       "  margin-bottom: 5px;\n",
       "}\n",
       "\n",
       ".xr-section-summary-in:checked ~ .xr-section-details {\n",
       "  display: contents;\n",
       "}\n",
       "\n",
       ".xr-array-wrap {\n",
       "  grid-column: 1 / -1;\n",
       "  display: grid;\n",
       "  grid-template-columns: 20px auto;\n",
       "}\n",
       "\n",
       ".xr-array-wrap > label {\n",
       "  grid-column: 1;\n",
       "  vertical-align: top;\n",
       "}\n",
       "\n",
       ".xr-preview {\n",
       "  color: var(--xr-font-color3);\n",
       "}\n",
       "\n",
       ".xr-array-preview,\n",
       ".xr-array-data {\n",
       "  padding: 0 5px !important;\n",
       "  grid-column: 2;\n",
       "}\n",
       "\n",
       ".xr-array-data,\n",
       ".xr-array-in:checked ~ .xr-array-preview {\n",
       "  display: none;\n",
       "}\n",
       "\n",
       ".xr-array-in:checked ~ .xr-array-data,\n",
       ".xr-array-preview {\n",
       "  display: inline-block;\n",
       "}\n",
       "\n",
       ".xr-dim-list {\n",
       "  display: inline-block !important;\n",
       "  list-style: none;\n",
       "  padding: 0 !important;\n",
       "  margin: 0;\n",
       "}\n",
       "\n",
       ".xr-dim-list li {\n",
       "  display: inline-block;\n",
       "  padding: 0;\n",
       "  margin: 0;\n",
       "}\n",
       "\n",
       ".xr-dim-list:before {\n",
       "  content: '(';\n",
       "}\n",
       "\n",
       ".xr-dim-list:after {\n",
       "  content: ')';\n",
       "}\n",
       "\n",
       ".xr-dim-list li:not(:last-child):after {\n",
       "  content: ',';\n",
       "  padding-right: 5px;\n",
       "}\n",
       "\n",
       ".xr-has-index {\n",
       "  font-weight: bold;\n",
       "}\n",
       "\n",
       ".xr-var-list,\n",
       ".xr-var-item {\n",
       "  display: contents;\n",
       "}\n",
       "\n",
       ".xr-var-item > div,\n",
       ".xr-var-item label,\n",
       ".xr-var-item > .xr-var-name span {\n",
       "  background-color: var(--xr-background-color-row-even);\n",
       "  margin-bottom: 0;\n",
       "}\n",
       "\n",
       ".xr-var-item > .xr-var-name:hover span {\n",
       "  padding-right: 5px;\n",
       "}\n",
       "\n",
       ".xr-var-list > li:nth-child(odd) > div,\n",
       ".xr-var-list > li:nth-child(odd) > label,\n",
       ".xr-var-list > li:nth-child(odd) > .xr-var-name span {\n",
       "  background-color: var(--xr-background-color-row-odd);\n",
       "}\n",
       "\n",
       ".xr-var-name {\n",
       "  grid-column: 1;\n",
       "}\n",
       "\n",
       ".xr-var-dims {\n",
       "  grid-column: 2;\n",
       "}\n",
       "\n",
       ".xr-var-dtype {\n",
       "  grid-column: 3;\n",
       "  text-align: right;\n",
       "  color: var(--xr-font-color2);\n",
       "}\n",
       "\n",
       ".xr-var-preview {\n",
       "  grid-column: 4;\n",
       "}\n",
       "\n",
       ".xr-index-preview {\n",
       "  grid-column: 2 / 5;\n",
       "  color: var(--xr-font-color2);\n",
       "}\n",
       "\n",
       ".xr-var-name,\n",
       ".xr-var-dims,\n",
       ".xr-var-dtype,\n",
       ".xr-preview,\n",
       ".xr-attrs dt {\n",
       "  white-space: nowrap;\n",
       "  overflow: hidden;\n",
       "  text-overflow: ellipsis;\n",
       "  padding-right: 10px;\n",
       "}\n",
       "\n",
       ".xr-var-name:hover,\n",
       ".xr-var-dims:hover,\n",
       ".xr-var-dtype:hover,\n",
       ".xr-attrs dt:hover {\n",
       "  overflow: visible;\n",
       "  width: auto;\n",
       "  z-index: 1;\n",
       "}\n",
       "\n",
       ".xr-var-attrs,\n",
       ".xr-var-data,\n",
       ".xr-index-data {\n",
       "  display: none;\n",
       "  background-color: var(--xr-background-color) !important;\n",
       "  padding-bottom: 5px !important;\n",
       "}\n",
       "\n",
       ".xr-var-attrs-in:checked ~ .xr-var-attrs,\n",
       ".xr-var-data-in:checked ~ .xr-var-data,\n",
       ".xr-index-data-in:checked ~ .xr-index-data {\n",
       "  display: block;\n",
       "}\n",
       "\n",
       ".xr-var-data > table {\n",
       "  float: right;\n",
       "}\n",
       "\n",
       ".xr-var-name span,\n",
       ".xr-var-data,\n",
       ".xr-index-name div,\n",
       ".xr-index-data,\n",
       ".xr-attrs {\n",
       "  padding-left: 25px !important;\n",
       "}\n",
       "\n",
       ".xr-attrs,\n",
       ".xr-var-attrs,\n",
       ".xr-var-data,\n",
       ".xr-index-data {\n",
       "  grid-column: 1 / -1;\n",
       "}\n",
       "\n",
       "dl.xr-attrs {\n",
       "  padding: 0;\n",
       "  margin: 0;\n",
       "  display: grid;\n",
       "  grid-template-columns: 125px auto;\n",
       "}\n",
       "\n",
       ".xr-attrs dt,\n",
       ".xr-attrs dd {\n",
       "  padding: 0;\n",
       "  margin: 0;\n",
       "  float: left;\n",
       "  padding-right: 10px;\n",
       "  width: auto;\n",
       "}\n",
       "\n",
       ".xr-attrs dt {\n",
       "  font-weight: normal;\n",
       "  grid-column: 1;\n",
       "}\n",
       "\n",
       ".xr-attrs dt:hover span {\n",
       "  display: inline-block;\n",
       "  background: var(--xr-background-color);\n",
       "  padding-right: 10px;\n",
       "}\n",
       "\n",
       ".xr-attrs dd {\n",
       "  grid-column: 2;\n",
       "  white-space: pre-wrap;\n",
       "  word-break: break-all;\n",
       "}\n",
       "\n",
       ".xr-icon-database,\n",
       ".xr-icon-file-text2,\n",
       ".xr-no-icon {\n",
       "  display: inline-block;\n",
       "  vertical-align: middle;\n",
       "  width: 1em;\n",
       "  height: 1.5em !important;\n",
       "  stroke-width: 0;\n",
       "  stroke: currentColor;\n",
       "  fill: currentColor;\n",
       "}\n",
       "</style><pre class='xr-text-repr-fallback'>&lt;xarray.Dataset&gt;\n",
       "Dimensions:     (loc: 17, time: 60531)\n",
       "Coordinates:\n",
       "    id          (loc) &lt;U2 &#x27;A1&#x27; &#x27;A2&#x27; &#x27;A3&#x27; &#x27;A4&#x27; &#x27;B1&#x27; ... &#x27;CT&#x27; &#x27;D1&#x27; &#x27;D2&#x27; &#x27;D3&#x27; &#x27;D4&#x27;\n",
       "    easting     (loc) float64 0.6993 3.451 6.778 9.267 ... 3.083 6.521 9.098\n",
       "    northing    (loc) float64 9.365 9.206 9.064 9.073 ... 0.6104 0.468 0.3523\n",
       "    z           (loc) float64 2.737 2.728 2.711 2.756 ... 2.618 2.605 2.597\n",
       "  * time        (time) datetime64[ns] 2018-03-05T13:54:00 ... 2018-03-05T15:3...\n",
       "Dimensions without coordinates: loc\n",
       "Data variables:\n",
       "    u           (loc, time) float64 0.27 0.27 0.1 0.05 ... 1.04 1.02 0.99 1.05\n",
       "    v           (loc, time) float64 1.34 1.36 1.41 1.29 ... 0.7 0.58 0.77 0.62\n",
       "    w           (loc, time) float64 -0.18 -0.17 -0.25 -0.41 ... 0.15 0.24 0.1\n",
       "    error_code  (loc, time) float64 0.0 0.0 0.0 0.0 0.0 ... 0.0 0.0 0.0 0.0 0.0</pre><div class='xr-wrap' style='display:none'><div class='xr-header'><div class='xr-obj-type'>xarray.Dataset</div></div><ul class='xr-sections'><li class='xr-section-item'><input id='section-6de6ac65-308e-4e22-b5e6-e8a2d8a4c714' class='xr-section-summary-in' type='checkbox' disabled ><label for='section-6de6ac65-308e-4e22-b5e6-e8a2d8a4c714' class='xr-section-summary'  title='Expand/collapse section'>Dimensions:</label><div class='xr-section-inline-details'><ul class='xr-dim-list'><li><span>loc</span>: 17</li><li><span class='xr-has-index'>time</span>: 60531</li></ul></div><div class='xr-section-details'></div></li><li class='xr-section-item'><input id='section-e0e0f624-083d-4304-bba3-3d08bd891831' class='xr-section-summary-in' type='checkbox'  checked><label for='section-e0e0f624-083d-4304-bba3-3d08bd891831' class='xr-section-summary' >Coordinates: <span>(5)</span></label><div class='xr-section-inline-details'></div><div class='xr-section-details'><ul class='xr-var-list'><li class='xr-var-item'><div class='xr-var-name'><span>id</span></div><div class='xr-var-dims'>(loc)</div><div class='xr-var-dtype'>&lt;U2</div><div class='xr-var-preview xr-preview'>&#x27;A1&#x27; &#x27;A2&#x27; &#x27;A3&#x27; ... &#x27;D2&#x27; &#x27;D3&#x27; &#x27;D4&#x27;</div><input id='attrs-d5904728-60e4-419c-b6f3-1bf6d500b6e9' class='xr-var-attrs-in' type='checkbox' disabled><label for='attrs-d5904728-60e4-419c-b6f3-1bf6d500b6e9' title='Show/Hide attributes'><svg class='icon xr-icon-file-text2'><use xlink:href='#icon-file-text2'></use></svg></label><input id='data-5363a9e5-59d3-4e89-ad2a-83c56a8aa46a' class='xr-var-data-in' type='checkbox'><label for='data-5363a9e5-59d3-4e89-ad2a-83c56a8aa46a' title='Show/Hide data repr'><svg class='icon xr-icon-database'><use xlink:href='#icon-database'></use></svg></label><div class='xr-var-attrs'><dl class='xr-attrs'></dl></div><div class='xr-var-data'><pre>array([&#x27;A1&#x27;, &#x27;A2&#x27;, &#x27;A3&#x27;, &#x27;A4&#x27;, &#x27;B1&#x27;, &#x27;B2&#x27;, &#x27;B3&#x27;, &#x27;B4&#x27;, &#x27;C1&#x27;, &#x27;C2&#x27;, &#x27;C3&#x27;,\n",
       "       &#x27;C4&#x27;, &#x27;CT&#x27;, &#x27;D1&#x27;, &#x27;D2&#x27;, &#x27;D3&#x27;, &#x27;D4&#x27;], dtype=&#x27;&lt;U2&#x27;)</pre></div></li><li class='xr-var-item'><div class='xr-var-name'><span>easting</span></div><div class='xr-var-dims'>(loc)</div><div class='xr-var-dtype'>float64</div><div class='xr-var-preview xr-preview'>0.6993 3.451 6.778 ... 6.521 9.098</div><input id='attrs-e90e6af0-dca7-4a84-8a32-222795cbbf1c' class='xr-var-attrs-in' type='checkbox' disabled><label for='attrs-e90e6af0-dca7-4a84-8a32-222795cbbf1c' title='Show/Hide attributes'><svg class='icon xr-icon-file-text2'><use xlink:href='#icon-file-text2'></use></svg></label><input id='data-dc4ea83c-82a6-4f3c-8910-f6eee3d410eb' class='xr-var-data-in' type='checkbox'><label for='data-dc4ea83c-82a6-4f3c-8910-f6eee3d410eb' title='Show/Hide data repr'><svg class='icon xr-icon-database'><use xlink:href='#icon-database'></use></svg></label><div class='xr-var-attrs'><dl class='xr-attrs'></dl></div><div class='xr-var-data'><pre>array([0.69925 , 3.451477, 6.777744, 9.266876, 0.629034, 3.382854,\n",
       "       6.689631, 9.176349, 0.485427, 3.24898 , 6.561096, 9.00528 ,\n",
       "       4.734274, 0.266065, 3.083319, 6.521272, 9.097682])</pre></div></li><li class='xr-var-item'><div class='xr-var-name'><span>northing</span></div><div class='xr-var-dims'>(loc)</div><div class='xr-var-dtype'>float64</div><div class='xr-var-preview xr-preview'>9.365 9.206 9.064 ... 0.468 0.3523</div><input id='attrs-ee7bffab-bab5-45c2-8f08-0d70493b132f' class='xr-var-attrs-in' type='checkbox' disabled><label for='attrs-ee7bffab-bab5-45c2-8f08-0d70493b132f' title='Show/Hide attributes'><svg class='icon xr-icon-file-text2'><use xlink:href='#icon-file-text2'></use></svg></label><input id='data-5c0190cf-0ca2-4690-85cb-49af33cc7a27' class='xr-var-data-in' type='checkbox'><label for='data-5c0190cf-0ca2-4690-85cb-49af33cc7a27' title='Show/Hide data repr'><svg class='icon xr-icon-database'><use xlink:href='#icon-database'></use></svg></label><div class='xr-var-attrs'><dl class='xr-attrs'></dl></div><div class='xr-var-data'><pre>array([9.364982, 9.205688, 9.064467, 9.072912, 6.684166, 6.473407,\n",
       "       6.390791, 6.339959, 3.655113, 3.488044, 3.322999, 3.271743,\n",
       "       5.055578, 0.761886, 0.610396, 0.467969, 0.352297])</pre></div></li><li class='xr-var-item'><div class='xr-var-name'><span>z</span></div><div class='xr-var-dims'>(loc)</div><div class='xr-var-dtype'>float64</div><div class='xr-var-preview xr-preview'>2.737 2.728 2.711 ... 2.605 2.597</div><input id='attrs-7ce244eb-a31b-4879-8594-6a81d0683aee' class='xr-var-attrs-in' type='checkbox' disabled><label for='attrs-7ce244eb-a31b-4879-8594-6a81d0683aee' title='Show/Hide attributes'><svg class='icon xr-icon-file-text2'><use xlink:href='#icon-file-text2'></use></svg></label><input id='data-b315e75c-5470-474e-a9dd-e76137fef820' class='xr-var-data-in' type='checkbox'><label for='data-b315e75c-5470-474e-a9dd-e76137fef820' title='Show/Hide data repr'><svg class='icon xr-icon-database'><use xlink:href='#icon-database'></use></svg></label><div class='xr-var-attrs'><dl class='xr-attrs'></dl></div><div class='xr-var-data'><pre>array([2.737, 2.728, 2.711, 2.756, 2.69 , 2.685, 2.632, 2.718, 2.644,\n",
       "       2.63 , 2.539, 2.584, 7.976, 2.669, 2.618, 2.605, 2.597])</pre></div></li><li class='xr-var-item'><div class='xr-var-name'><span class='xr-has-index'>time</span></div><div class='xr-var-dims'>(time)</div><div class='xr-var-dtype'>datetime64[ns]</div><div class='xr-var-preview xr-preview'>2018-03-05T13:54:00 ... 2018-03-...</div><input id='attrs-72f531ba-a172-4901-851d-1fd585079e61' class='xr-var-attrs-in' type='checkbox' disabled><label for='attrs-72f531ba-a172-4901-851d-1fd585079e61' title='Show/Hide attributes'><svg class='icon xr-icon-file-text2'><use xlink:href='#icon-file-text2'></use></svg></label><input id='data-505807d1-e386-41ba-b760-055a339de585' class='xr-var-data-in' type='checkbox'><label for='data-505807d1-e386-41ba-b760-055a339de585' title='Show/Hide data repr'><svg class='icon xr-icon-database'><use xlink:href='#icon-database'></use></svg></label><div class='xr-var-attrs'><dl class='xr-attrs'></dl></div><div class='xr-var-data'><pre>array([&#x27;2018-03-05T13:54:00.000000000&#x27;, &#x27;2018-03-05T13:54:00.100000000&#x27;,\n",
       "       &#x27;2018-03-05T13:54:00.200000000&#x27;, ..., &#x27;2018-03-05T15:34:52.800000000&#x27;,\n",
       "       &#x27;2018-03-05T15:34:52.900000000&#x27;, &#x27;2018-03-05T15:34:53.000000000&#x27;],\n",
       "      dtype=&#x27;datetime64[ns]&#x27;)</pre></div></li></ul></div></li><li class='xr-section-item'><input id='section-0df66ef8-0bc0-4622-954a-025b98fa149a' class='xr-section-summary-in' type='checkbox'  checked><label for='section-0df66ef8-0bc0-4622-954a-025b98fa149a' class='xr-section-summary' >Data variables: <span>(4)</span></label><div class='xr-section-inline-details'></div><div class='xr-section-details'><ul class='xr-var-list'><li class='xr-var-item'><div class='xr-var-name'><span>u</span></div><div class='xr-var-dims'>(loc, time)</div><div class='xr-var-dtype'>float64</div><div class='xr-var-preview xr-preview'>0.27 0.27 0.1 ... 1.02 0.99 1.05</div><input id='attrs-68564ac3-5c0b-4987-955e-b554a641d956' class='xr-var-attrs-in' type='checkbox' disabled><label for='attrs-68564ac3-5c0b-4987-955e-b554a641d956' title='Show/Hide attributes'><svg class='icon xr-icon-file-text2'><use xlink:href='#icon-file-text2'></use></svg></label><input id='data-a8ce269c-272b-432f-b0c6-b4e364791b6f' class='xr-var-data-in' type='checkbox'><label for='data-a8ce269c-272b-432f-b0c6-b4e364791b6f' title='Show/Hide data repr'><svg class='icon xr-icon-database'><use xlink:href='#icon-database'></use></svg></label><div class='xr-var-attrs'><dl class='xr-attrs'></dl></div><div class='xr-var-data'><pre>array([[ 0.27,  0.27,  0.1 , ...,  0.46,  0.24,  0.42],\n",
       "       [ 0.07,  0.04,  0.08, ...,  0.91,  0.88,  0.83],\n",
       "       [-0.03, -0.09, -0.02, ...,  1.25,  1.1 ,  1.33],\n",
       "       ...,\n",
       "       [-0.05,  0.  ,  0.02, ...,  0.63,  0.6 ,  0.44],\n",
       "       [-0.14, -0.14, -0.16, ...,  0.41,  0.39,  0.4 ],\n",
       "       [-0.41, -0.59, -0.5 , ...,  1.02,  0.99,  1.05]])</pre></div></li><li class='xr-var-item'><div class='xr-var-name'><span>v</span></div><div class='xr-var-dims'>(loc, time)</div><div class='xr-var-dtype'>float64</div><div class='xr-var-preview xr-preview'>1.34 1.36 1.41 ... 0.58 0.77 0.62</div><input id='attrs-e05fbbf9-1ca1-419e-9aae-c3f338adea4b' class='xr-var-attrs-in' type='checkbox' disabled><label for='attrs-e05fbbf9-1ca1-419e-9aae-c3f338adea4b' title='Show/Hide attributes'><svg class='icon xr-icon-file-text2'><use xlink:href='#icon-file-text2'></use></svg></label><input id='data-0e3fe05a-a4be-4f61-aba4-48c6ae577664' class='xr-var-data-in' type='checkbox'><label for='data-0e3fe05a-a4be-4f61-aba4-48c6ae577664' title='Show/Hide data repr'><svg class='icon xr-icon-database'><use xlink:href='#icon-database'></use></svg></label><div class='xr-var-attrs'><dl class='xr-attrs'></dl></div><div class='xr-var-data'><pre>array([[1.34, 1.36, 1.41, ..., 1.11, 1.19, 1.  ],\n",
       "       [0.92, 0.96, 0.88, ..., 1.22, 1.1 , 1.23],\n",
       "       [0.67, 0.67, 0.74, ..., 1.47, 1.36, 1.28],\n",
       "       ...,\n",
       "       [0.51, 0.44, 0.49, ..., 0.94, 0.79, 0.76],\n",
       "       [0.8 , 0.87, 0.9 , ..., 0.82, 0.82, 0.81],\n",
       "       [0.89, 0.92, 0.9 , ..., 0.58, 0.77, 0.62]])</pre></div></li><li class='xr-var-item'><div class='xr-var-name'><span>w</span></div><div class='xr-var-dims'>(loc, time)</div><div class='xr-var-dtype'>float64</div><div class='xr-var-preview xr-preview'>-0.18 -0.17 -0.25 ... 0.15 0.24 0.1</div><input id='attrs-c5aa2199-5eac-4536-96ac-b027bee21beb' class='xr-var-attrs-in' type='checkbox' disabled><label for='attrs-c5aa2199-5eac-4536-96ac-b027bee21beb' title='Show/Hide attributes'><svg class='icon xr-icon-file-text2'><use xlink:href='#icon-file-text2'></use></svg></label><input id='data-3f8c5b3f-1ea9-42d4-bd67-34a4434b9dab' class='xr-var-data-in' type='checkbox'><label for='data-3f8c5b3f-1ea9-42d4-bd67-34a4434b9dab' title='Show/Hide data repr'><svg class='icon xr-icon-database'><use xlink:href='#icon-database'></use></svg></label><div class='xr-var-attrs'><dl class='xr-attrs'></dl></div><div class='xr-var-data'><pre>array([[-0.18, -0.17, -0.25, ..., -0.32, -0.14,  0.41],\n",
       "       [-0.03, -0.03, -0.08, ...,  0.18,  0.07,  0.29],\n",
       "       [-0.12, -0.07, -0.05, ..., -0.11, -0.06, -0.03],\n",
       "       ...,\n",
       "       [ 0.05,  0.07,  0.09, ..., -0.07, -0.07,  0.04],\n",
       "       [ 0.01,  0.01,  0.  , ...,  0.05,  0.07,  0.04],\n",
       "       [-0.05, -0.12, -0.04, ...,  0.15,  0.24,  0.1 ]])</pre></div></li><li class='xr-var-item'><div class='xr-var-name'><span>error_code</span></div><div class='xr-var-dims'>(loc, time)</div><div class='xr-var-dtype'>float64</div><div class='xr-var-preview xr-preview'>0.0 0.0 0.0 0.0 ... 0.0 0.0 0.0 0.0</div><input id='attrs-4f2b0d0c-e86d-4d3a-af1a-05b3be49fc98' class='xr-var-attrs-in' type='checkbox' disabled><label for='attrs-4f2b0d0c-e86d-4d3a-af1a-05b3be49fc98' title='Show/Hide attributes'><svg class='icon xr-icon-file-text2'><use xlink:href='#icon-file-text2'></use></svg></label><input id='data-6f62a64b-2448-4602-b07b-256845d235df' class='xr-var-data-in' type='checkbox'><label for='data-6f62a64b-2448-4602-b07b-256845d235df' title='Show/Hide data repr'><svg class='icon xr-icon-database'><use xlink:href='#icon-database'></use></svg></label><div class='xr-var-attrs'><dl class='xr-attrs'></dl></div><div class='xr-var-data'><pre>array([[0., 0., 0., ..., 0., 0., 0.],\n",
       "       [0., 0., 0., ..., 0., 0., 0.],\n",
       "       [0., 0., 0., ..., 0., 0., 0.],\n",
       "       ...,\n",
       "       [0., 0., 0., ..., 0., 0., 0.],\n",
       "       [0., 0., 0., ..., 0., 0., 0.],\n",
       "       [0., 0., 0., ..., 0., 0., 0.]])</pre></div></li></ul></div></li><li class='xr-section-item'><input id='section-56946874-2487-41cc-ba57-f67652af4e8a' class='xr-section-summary-in' type='checkbox'  ><label for='section-56946874-2487-41cc-ba57-f67652af4e8a' class='xr-section-summary' >Indexes: <span>(1)</span></label><div class='xr-section-inline-details'></div><div class='xr-section-details'><ul class='xr-var-list'><li class='xr-var-item'><div class='xr-index-name'><div>time</div></div><div class='xr-index-preview'>PandasIndex</div><div></div><input id='index-3f61177e-1276-4f64-9703-1e515e42dda5' class='xr-index-data-in' type='checkbox'/><label for='index-3f61177e-1276-4f64-9703-1e515e42dda5' title='Show/Hide index repr'><svg class='icon xr-icon-database'><use xlink:href='#icon-database'></use></svg></label><div class='xr-index-data'><pre>PandasIndex(DatetimeIndex([       &#x27;2018-03-05 13:54:00&#x27;, &#x27;2018-03-05 13:54:00.100000&#x27;,\n",
       "               &#x27;2018-03-05 13:54:00.200000&#x27;, &#x27;2018-03-05 13:54:00.300000&#x27;,\n",
       "               &#x27;2018-03-05 13:54:00.400000&#x27;, &#x27;2018-03-05 13:54:00.500000&#x27;,\n",
       "               &#x27;2018-03-05 13:54:00.600000&#x27;, &#x27;2018-03-05 13:54:00.700000&#x27;,\n",
       "               &#x27;2018-03-05 13:54:00.800000&#x27;, &#x27;2018-03-05 13:54:00.900000&#x27;,\n",
       "               ...\n",
       "               &#x27;2018-03-05 15:34:52.100000&#x27;, &#x27;2018-03-05 15:34:52.200000&#x27;,\n",
       "               &#x27;2018-03-05 15:34:52.300000&#x27;, &#x27;2018-03-05 15:34:52.400000&#x27;,\n",
       "               &#x27;2018-03-05 15:34:52.500000&#x27;, &#x27;2018-03-05 15:34:52.600000&#x27;,\n",
       "               &#x27;2018-03-05 15:34:52.700000&#x27;, &#x27;2018-03-05 15:34:52.800000&#x27;,\n",
       "               &#x27;2018-03-05 15:34:52.900000&#x27;,        &#x27;2018-03-05 15:34:53&#x27;],\n",
       "              dtype=&#x27;datetime64[ns]&#x27;, name=&#x27;time&#x27;, length=60531, freq=None))</pre></div></li></ul></div></li><li class='xr-section-item'><input id='section-843ec397-434f-48fb-9425-ec3aeaff6cf8' class='xr-section-summary-in' type='checkbox' disabled ><label for='section-843ec397-434f-48fb-9425-ec3aeaff6cf8' class='xr-section-summary'  title='Expand/collapse section'>Attributes: <span>(0)</span></label><div class='xr-section-inline-details'></div><div class='xr-section-details'><dl class='xr-attrs'></dl></div></li></ul></div></div>"
      ],
      "text/plain": [
       "<xarray.Dataset>\n",
       "Dimensions:     (loc: 17, time: 60531)\n",
       "Coordinates:\n",
       "    id          (loc) <U2 'A1' 'A2' 'A3' 'A4' 'B1' ... 'CT' 'D1' 'D2' 'D3' 'D4'\n",
       "    easting     (loc) float64 0.6993 3.451 6.778 9.267 ... 3.083 6.521 9.098\n",
       "    northing    (loc) float64 9.365 9.206 9.064 9.073 ... 0.6104 0.468 0.3523\n",
       "    z           (loc) float64 2.737 2.728 2.711 2.756 ... 2.618 2.605 2.597\n",
       "  * time        (time) datetime64[ns] 2018-03-05T13:54:00 ... 2018-03-05T15:3...\n",
       "Dimensions without coordinates: loc\n",
       "Data variables:\n",
       "    u           (loc, time) float64 0.27 0.27 0.1 0.05 ... 1.04 1.02 0.99 1.05\n",
       "    v           (loc, time) float64 1.34 1.36 1.41 1.29 ... 0.7 0.58 0.77 0.62\n",
       "    w           (loc, time) float64 -0.18 -0.17 -0.25 -0.41 ... 0.15 0.24 0.1\n",
       "    error_code  (loc, time) float64 0.0 0.0 0.0 0.0 0.0 ... 0.0 0.0 0.0 0.0 0.0"
      ]
     },
     "metadata": {},
     "output_type": "display_data"
    }
   ],
   "source": [
    "# Build xarray and then remove raw data from memory\n",
    "\n",
    "dataset = xr.Dataset({\n",
    "    'u': ([loc_dim, 'time'], all_raw_data[wind_components[0]]),\n",
    "    'v': ([loc_dim, 'time'], all_raw_data[wind_components[1]]),\n",
    "    'w': ([loc_dim, 'time'], all_raw_data[wind_components[2]]),\n",
    "    'error_code': ([loc_dim, 'time'], all_raw_data['error_code'])  \n",
    "},\n",
    "coords={\n",
    "    'id': ([loc_dim], all_raw_data['sensor_id']),\n",
    "    'easting': ([loc_dim], loc_data['easting']),\n",
    "    'northing': ([loc_dim], loc_data['northing']),\n",
    "    'z': ([loc_dim], loc_data['z']),\n",
    "    'time': all_raw_data['time']\n",
    "})\n",
    "\n",
    "del all_raw_data, data, uvw\n",
    "display(dataset)"
   ]
  },
  {
   "cell_type": "markdown",
   "id": "9942e448",
   "metadata": {},
   "source": [
    "## Calculate wind speed and direction"
   ]
  },
  {
   "cell_type": "code",
   "execution_count": 27,
   "id": "acbfedfe",
   "metadata": {},
   "outputs": [
    {
     "name": "stdout",
     "output_type": "stream",
     "text": [
      "Done!\n"
     ]
    }
   ],
   "source": [
    "calc_data = {}\n",
    "calc_store = {'speed': calc_speed, \n",
    "              'uv_speed': calc_horiz_speed, 'uv_bearing': calc_horiz_bearing, \n",
    "              'w_speed': calc_vert_speed, 'w_dir': calc_vert_direction}\n",
    "\n",
    "for uvw in raw_uvw:\n",
    "    for cname, cfunc in calc_store.items():\n",
    "        calc_data.setdefault(cname, []).append(np.apply_along_axis(cfunc, 1, uvw))\n",
    "\n",
    "print('Done!')\n",
    "del raw_uvw, uvw"
   ]
  },
  {
   "cell_type": "code",
   "execution_count": 28,
   "id": "8bc9ade7",
   "metadata": {},
   "outputs": [
    {
     "data": {
      "text/html": [
       "<div><svg style=\"position: absolute; width: 0; height: 0; overflow: hidden\">\n",
       "<defs>\n",
       "<symbol id=\"icon-database\" viewBox=\"0 0 32 32\">\n",
       "<path d=\"M16 0c-8.837 0-16 2.239-16 5v4c0 2.761 7.163 5 16 5s16-2.239 16-5v-4c0-2.761-7.163-5-16-5z\"></path>\n",
       "<path d=\"M16 17c-8.837 0-16-2.239-16-5v6c0 2.761 7.163 5 16 5s16-2.239 16-5v-6c0 2.761-7.163 5-16 5z\"></path>\n",
       "<path d=\"M16 26c-8.837 0-16-2.239-16-5v6c0 2.761 7.163 5 16 5s16-2.239 16-5v-6c0 2.761-7.163 5-16 5z\"></path>\n",
       "</symbol>\n",
       "<symbol id=\"icon-file-text2\" viewBox=\"0 0 32 32\">\n",
       "<path d=\"M28.681 7.159c-0.694-0.947-1.662-2.053-2.724-3.116s-2.169-2.030-3.116-2.724c-1.612-1.182-2.393-1.319-2.841-1.319h-15.5c-1.378 0-2.5 1.121-2.5 2.5v27c0 1.378 1.122 2.5 2.5 2.5h23c1.378 0 2.5-1.122 2.5-2.5v-19.5c0-0.448-0.137-1.23-1.319-2.841zM24.543 5.457c0.959 0.959 1.712 1.825 2.268 2.543h-4.811v-4.811c0.718 0.556 1.584 1.309 2.543 2.268zM28 29.5c0 0.271-0.229 0.5-0.5 0.5h-23c-0.271 0-0.5-0.229-0.5-0.5v-27c0-0.271 0.229-0.5 0.5-0.5 0 0 15.499-0 15.5 0v7c0 0.552 0.448 1 1 1h7v19.5z\"></path>\n",
       "<path d=\"M23 26h-14c-0.552 0-1-0.448-1-1s0.448-1 1-1h14c0.552 0 1 0.448 1 1s-0.448 1-1 1z\"></path>\n",
       "<path d=\"M23 22h-14c-0.552 0-1-0.448-1-1s0.448-1 1-1h14c0.552 0 1 0.448 1 1s-0.448 1-1 1z\"></path>\n",
       "<path d=\"M23 18h-14c-0.552 0-1-0.448-1-1s0.448-1 1-1h14c0.552 0 1 0.448 1 1s-0.448 1-1 1z\"></path>\n",
       "</symbol>\n",
       "</defs>\n",
       "</svg>\n",
       "<style>/* CSS stylesheet for displaying xarray objects in jupyterlab.\n",
       " *\n",
       " */\n",
       "\n",
       ":root {\n",
       "  --xr-font-color0: var(--jp-content-font-color0, rgba(0, 0, 0, 1));\n",
       "  --xr-font-color2: var(--jp-content-font-color2, rgba(0, 0, 0, 0.54));\n",
       "  --xr-font-color3: var(--jp-content-font-color3, rgba(0, 0, 0, 0.38));\n",
       "  --xr-border-color: var(--jp-border-color2, #e0e0e0);\n",
       "  --xr-disabled-color: var(--jp-layout-color3, #bdbdbd);\n",
       "  --xr-background-color: var(--jp-layout-color0, white);\n",
       "  --xr-background-color-row-even: var(--jp-layout-color1, white);\n",
       "  --xr-background-color-row-odd: var(--jp-layout-color2, #eeeeee);\n",
       "}\n",
       "\n",
       "html[theme=dark],\n",
       "body[data-theme=dark],\n",
       "body.vscode-dark {\n",
       "  --xr-font-color0: rgba(255, 255, 255, 1);\n",
       "  --xr-font-color2: rgba(255, 255, 255, 0.54);\n",
       "  --xr-font-color3: rgba(255, 255, 255, 0.38);\n",
       "  --xr-border-color: #1F1F1F;\n",
       "  --xr-disabled-color: #515151;\n",
       "  --xr-background-color: #111111;\n",
       "  --xr-background-color-row-even: #111111;\n",
       "  --xr-background-color-row-odd: #313131;\n",
       "}\n",
       "\n",
       ".xr-wrap {\n",
       "  display: block !important;\n",
       "  min-width: 300px;\n",
       "  max-width: 700px;\n",
       "}\n",
       "\n",
       ".xr-text-repr-fallback {\n",
       "  /* fallback to plain text repr when CSS is not injected (untrusted notebook) */\n",
       "  display: none;\n",
       "}\n",
       "\n",
       ".xr-header {\n",
       "  padding-top: 6px;\n",
       "  padding-bottom: 6px;\n",
       "  margin-bottom: 4px;\n",
       "  border-bottom: solid 1px var(--xr-border-color);\n",
       "}\n",
       "\n",
       ".xr-header > div,\n",
       ".xr-header > ul {\n",
       "  display: inline;\n",
       "  margin-top: 0;\n",
       "  margin-bottom: 0;\n",
       "}\n",
       "\n",
       ".xr-obj-type,\n",
       ".xr-array-name {\n",
       "  margin-left: 2px;\n",
       "  margin-right: 10px;\n",
       "}\n",
       "\n",
       ".xr-obj-type {\n",
       "  color: var(--xr-font-color2);\n",
       "}\n",
       "\n",
       ".xr-sections {\n",
       "  padding-left: 0 !important;\n",
       "  display: grid;\n",
       "  grid-template-columns: 150px auto auto 1fr 20px 20px;\n",
       "}\n",
       "\n",
       ".xr-section-item {\n",
       "  display: contents;\n",
       "}\n",
       "\n",
       ".xr-section-item input {\n",
       "  display: none;\n",
       "}\n",
       "\n",
       ".xr-section-item input + label {\n",
       "  color: var(--xr-disabled-color);\n",
       "}\n",
       "\n",
       ".xr-section-item input:enabled + label {\n",
       "  cursor: pointer;\n",
       "  color: var(--xr-font-color2);\n",
       "}\n",
       "\n",
       ".xr-section-item input:enabled + label:hover {\n",
       "  color: var(--xr-font-color0);\n",
       "}\n",
       "\n",
       ".xr-section-summary {\n",
       "  grid-column: 1;\n",
       "  color: var(--xr-font-color2);\n",
       "  font-weight: 500;\n",
       "}\n",
       "\n",
       ".xr-section-summary > span {\n",
       "  display: inline-block;\n",
       "  padding-left: 0.5em;\n",
       "}\n",
       "\n",
       ".xr-section-summary-in:disabled + label {\n",
       "  color: var(--xr-font-color2);\n",
       "}\n",
       "\n",
       ".xr-section-summary-in + label:before {\n",
       "  display: inline-block;\n",
       "  content: '►';\n",
       "  font-size: 11px;\n",
       "  width: 15px;\n",
       "  text-align: center;\n",
       "}\n",
       "\n",
       ".xr-section-summary-in:disabled + label:before {\n",
       "  color: var(--xr-disabled-color);\n",
       "}\n",
       "\n",
       ".xr-section-summary-in:checked + label:before {\n",
       "  content: '▼';\n",
       "}\n",
       "\n",
       ".xr-section-summary-in:checked + label > span {\n",
       "  display: none;\n",
       "}\n",
       "\n",
       ".xr-section-summary,\n",
       ".xr-section-inline-details {\n",
       "  padding-top: 4px;\n",
       "  padding-bottom: 4px;\n",
       "}\n",
       "\n",
       ".xr-section-inline-details {\n",
       "  grid-column: 2 / -1;\n",
       "}\n",
       "\n",
       ".xr-section-details {\n",
       "  display: none;\n",
       "  grid-column: 1 / -1;\n",
       "  margin-bottom: 5px;\n",
       "}\n",
       "\n",
       ".xr-section-summary-in:checked ~ .xr-section-details {\n",
       "  display: contents;\n",
       "}\n",
       "\n",
       ".xr-array-wrap {\n",
       "  grid-column: 1 / -1;\n",
       "  display: grid;\n",
       "  grid-template-columns: 20px auto;\n",
       "}\n",
       "\n",
       ".xr-array-wrap > label {\n",
       "  grid-column: 1;\n",
       "  vertical-align: top;\n",
       "}\n",
       "\n",
       ".xr-preview {\n",
       "  color: var(--xr-font-color3);\n",
       "}\n",
       "\n",
       ".xr-array-preview,\n",
       ".xr-array-data {\n",
       "  padding: 0 5px !important;\n",
       "  grid-column: 2;\n",
       "}\n",
       "\n",
       ".xr-array-data,\n",
       ".xr-array-in:checked ~ .xr-array-preview {\n",
       "  display: none;\n",
       "}\n",
       "\n",
       ".xr-array-in:checked ~ .xr-array-data,\n",
       ".xr-array-preview {\n",
       "  display: inline-block;\n",
       "}\n",
       "\n",
       ".xr-dim-list {\n",
       "  display: inline-block !important;\n",
       "  list-style: none;\n",
       "  padding: 0 !important;\n",
       "  margin: 0;\n",
       "}\n",
       "\n",
       ".xr-dim-list li {\n",
       "  display: inline-block;\n",
       "  padding: 0;\n",
       "  margin: 0;\n",
       "}\n",
       "\n",
       ".xr-dim-list:before {\n",
       "  content: '(';\n",
       "}\n",
       "\n",
       ".xr-dim-list:after {\n",
       "  content: ')';\n",
       "}\n",
       "\n",
       ".xr-dim-list li:not(:last-child):after {\n",
       "  content: ',';\n",
       "  padding-right: 5px;\n",
       "}\n",
       "\n",
       ".xr-has-index {\n",
       "  font-weight: bold;\n",
       "}\n",
       "\n",
       ".xr-var-list,\n",
       ".xr-var-item {\n",
       "  display: contents;\n",
       "}\n",
       "\n",
       ".xr-var-item > div,\n",
       ".xr-var-item label,\n",
       ".xr-var-item > .xr-var-name span {\n",
       "  background-color: var(--xr-background-color-row-even);\n",
       "  margin-bottom: 0;\n",
       "}\n",
       "\n",
       ".xr-var-item > .xr-var-name:hover span {\n",
       "  padding-right: 5px;\n",
       "}\n",
       "\n",
       ".xr-var-list > li:nth-child(odd) > div,\n",
       ".xr-var-list > li:nth-child(odd) > label,\n",
       ".xr-var-list > li:nth-child(odd) > .xr-var-name span {\n",
       "  background-color: var(--xr-background-color-row-odd);\n",
       "}\n",
       "\n",
       ".xr-var-name {\n",
       "  grid-column: 1;\n",
       "}\n",
       "\n",
       ".xr-var-dims {\n",
       "  grid-column: 2;\n",
       "}\n",
       "\n",
       ".xr-var-dtype {\n",
       "  grid-column: 3;\n",
       "  text-align: right;\n",
       "  color: var(--xr-font-color2);\n",
       "}\n",
       "\n",
       ".xr-var-preview {\n",
       "  grid-column: 4;\n",
       "}\n",
       "\n",
       ".xr-index-preview {\n",
       "  grid-column: 2 / 5;\n",
       "  color: var(--xr-font-color2);\n",
       "}\n",
       "\n",
       ".xr-var-name,\n",
       ".xr-var-dims,\n",
       ".xr-var-dtype,\n",
       ".xr-preview,\n",
       ".xr-attrs dt {\n",
       "  white-space: nowrap;\n",
       "  overflow: hidden;\n",
       "  text-overflow: ellipsis;\n",
       "  padding-right: 10px;\n",
       "}\n",
       "\n",
       ".xr-var-name:hover,\n",
       ".xr-var-dims:hover,\n",
       ".xr-var-dtype:hover,\n",
       ".xr-attrs dt:hover {\n",
       "  overflow: visible;\n",
       "  width: auto;\n",
       "  z-index: 1;\n",
       "}\n",
       "\n",
       ".xr-var-attrs,\n",
       ".xr-var-data,\n",
       ".xr-index-data {\n",
       "  display: none;\n",
       "  background-color: var(--xr-background-color) !important;\n",
       "  padding-bottom: 5px !important;\n",
       "}\n",
       "\n",
       ".xr-var-attrs-in:checked ~ .xr-var-attrs,\n",
       ".xr-var-data-in:checked ~ .xr-var-data,\n",
       ".xr-index-data-in:checked ~ .xr-index-data {\n",
       "  display: block;\n",
       "}\n",
       "\n",
       ".xr-var-data > table {\n",
       "  float: right;\n",
       "}\n",
       "\n",
       ".xr-var-name span,\n",
       ".xr-var-data,\n",
       ".xr-index-name div,\n",
       ".xr-index-data,\n",
       ".xr-attrs {\n",
       "  padding-left: 25px !important;\n",
       "}\n",
       "\n",
       ".xr-attrs,\n",
       ".xr-var-attrs,\n",
       ".xr-var-data,\n",
       ".xr-index-data {\n",
       "  grid-column: 1 / -1;\n",
       "}\n",
       "\n",
       "dl.xr-attrs {\n",
       "  padding: 0;\n",
       "  margin: 0;\n",
       "  display: grid;\n",
       "  grid-template-columns: 125px auto;\n",
       "}\n",
       "\n",
       ".xr-attrs dt,\n",
       ".xr-attrs dd {\n",
       "  padding: 0;\n",
       "  margin: 0;\n",
       "  float: left;\n",
       "  padding-right: 10px;\n",
       "  width: auto;\n",
       "}\n",
       "\n",
       ".xr-attrs dt {\n",
       "  font-weight: normal;\n",
       "  grid-column: 1;\n",
       "}\n",
       "\n",
       ".xr-attrs dt:hover span {\n",
       "  display: inline-block;\n",
       "  background: var(--xr-background-color);\n",
       "  padding-right: 10px;\n",
       "}\n",
       "\n",
       ".xr-attrs dd {\n",
       "  grid-column: 2;\n",
       "  white-space: pre-wrap;\n",
       "  word-break: break-all;\n",
       "}\n",
       "\n",
       ".xr-icon-database,\n",
       ".xr-icon-file-text2,\n",
       ".xr-no-icon {\n",
       "  display: inline-block;\n",
       "  vertical-align: middle;\n",
       "  width: 1em;\n",
       "  height: 1.5em !important;\n",
       "  stroke-width: 0;\n",
       "  stroke: currentColor;\n",
       "  fill: currentColor;\n",
       "}\n",
       "</style><pre class='xr-text-repr-fallback'>&lt;xarray.Dataset&gt;\n",
       "Dimensions:     (loc: 17, time: 60531)\n",
       "Coordinates:\n",
       "    id          (loc) &lt;U2 &#x27;A1&#x27; &#x27;A2&#x27; &#x27;A3&#x27; &#x27;A4&#x27; &#x27;B1&#x27; ... &#x27;CT&#x27; &#x27;D1&#x27; &#x27;D2&#x27; &#x27;D3&#x27; &#x27;D4&#x27;\n",
       "    easting     (loc) float64 0.6993 3.451 6.778 9.267 ... 3.083 6.521 9.098\n",
       "    northing    (loc) float64 9.365 9.206 9.064 9.073 ... 0.6104 0.468 0.3523\n",
       "    z           (loc) float64 2.737 2.728 2.711 2.756 ... 2.618 2.605 2.597\n",
       "  * time        (time) datetime64[ns] 2018-03-05T13:54:00 ... 2018-03-05T15:3...\n",
       "Dimensions without coordinates: loc\n",
       "Data variables:\n",
       "    u           (loc, time) float64 0.27 0.27 0.1 0.05 ... 1.04 1.02 0.99 1.05\n",
       "    v           (loc, time) float64 1.34 1.36 1.41 1.29 ... 0.7 0.58 0.77 0.62\n",
       "    w           (loc, time) float64 -0.18 -0.17 -0.25 -0.41 ... 0.15 0.24 0.1\n",
       "    error_code  (loc, time) float64 0.0 0.0 0.0 0.0 0.0 ... 0.0 0.0 0.0 0.0 0.0\n",
       "    speed       (loc, time) float64 1.379 1.397 1.435 ... 1.183 1.277 1.223\n",
       "    uv_speed    (loc, time) float64 1.367 1.387 1.414 ... 1.173 1.254 1.219\n",
       "    uv_bearing  (loc, time) float64 11.39 11.23 4.057 2.22 ... 60.38 52.13 59.44\n",
       "    w_speed     (loc, time) float64 0.18 0.17 0.25 0.41 ... 0.29 0.15 0.24 0.1\n",
       "    w_dir       (loc, time) int64 -1 -1 -1 -1 -1 -1 -1 -1 -1 ... 1 1 1 1 1 1 1 1</pre><div class='xr-wrap' style='display:none'><div class='xr-header'><div class='xr-obj-type'>xarray.Dataset</div></div><ul class='xr-sections'><li class='xr-section-item'><input id='section-437ae29a-a6d8-4891-b320-657674b7814b' class='xr-section-summary-in' type='checkbox' disabled ><label for='section-437ae29a-a6d8-4891-b320-657674b7814b' class='xr-section-summary'  title='Expand/collapse section'>Dimensions:</label><div class='xr-section-inline-details'><ul class='xr-dim-list'><li><span>loc</span>: 17</li><li><span class='xr-has-index'>time</span>: 60531</li></ul></div><div class='xr-section-details'></div></li><li class='xr-section-item'><input id='section-a6153e9f-a06f-4407-94e9-e19b07f21784' class='xr-section-summary-in' type='checkbox'  checked><label for='section-a6153e9f-a06f-4407-94e9-e19b07f21784' class='xr-section-summary' >Coordinates: <span>(5)</span></label><div class='xr-section-inline-details'></div><div class='xr-section-details'><ul class='xr-var-list'><li class='xr-var-item'><div class='xr-var-name'><span>id</span></div><div class='xr-var-dims'>(loc)</div><div class='xr-var-dtype'>&lt;U2</div><div class='xr-var-preview xr-preview'>&#x27;A1&#x27; &#x27;A2&#x27; &#x27;A3&#x27; ... &#x27;D2&#x27; &#x27;D3&#x27; &#x27;D4&#x27;</div><input id='attrs-0f056681-97c6-41b9-bfab-ba12a9708575' class='xr-var-attrs-in' type='checkbox' disabled><label for='attrs-0f056681-97c6-41b9-bfab-ba12a9708575' title='Show/Hide attributes'><svg class='icon xr-icon-file-text2'><use xlink:href='#icon-file-text2'></use></svg></label><input id='data-8a465660-4da1-4aa8-a165-0ddfad0390ac' class='xr-var-data-in' type='checkbox'><label for='data-8a465660-4da1-4aa8-a165-0ddfad0390ac' title='Show/Hide data repr'><svg class='icon xr-icon-database'><use xlink:href='#icon-database'></use></svg></label><div class='xr-var-attrs'><dl class='xr-attrs'></dl></div><div class='xr-var-data'><pre>array([&#x27;A1&#x27;, &#x27;A2&#x27;, &#x27;A3&#x27;, &#x27;A4&#x27;, &#x27;B1&#x27;, &#x27;B2&#x27;, &#x27;B3&#x27;, &#x27;B4&#x27;, &#x27;C1&#x27;, &#x27;C2&#x27;, &#x27;C3&#x27;,\n",
       "       &#x27;C4&#x27;, &#x27;CT&#x27;, &#x27;D1&#x27;, &#x27;D2&#x27;, &#x27;D3&#x27;, &#x27;D4&#x27;], dtype=&#x27;&lt;U2&#x27;)</pre></div></li><li class='xr-var-item'><div class='xr-var-name'><span>easting</span></div><div class='xr-var-dims'>(loc)</div><div class='xr-var-dtype'>float64</div><div class='xr-var-preview xr-preview'>0.6993 3.451 6.778 ... 6.521 9.098</div><input id='attrs-3da781cd-53f0-403e-8820-cd3a00591fdd' class='xr-var-attrs-in' type='checkbox' disabled><label for='attrs-3da781cd-53f0-403e-8820-cd3a00591fdd' title='Show/Hide attributes'><svg class='icon xr-icon-file-text2'><use xlink:href='#icon-file-text2'></use></svg></label><input id='data-7433a079-5945-488f-bdf1-56925ca1608b' class='xr-var-data-in' type='checkbox'><label for='data-7433a079-5945-488f-bdf1-56925ca1608b' title='Show/Hide data repr'><svg class='icon xr-icon-database'><use xlink:href='#icon-database'></use></svg></label><div class='xr-var-attrs'><dl class='xr-attrs'></dl></div><div class='xr-var-data'><pre>array([0.69925 , 3.451477, 6.777744, 9.266876, 0.629034, 3.382854,\n",
       "       6.689631, 9.176349, 0.485427, 3.24898 , 6.561096, 9.00528 ,\n",
       "       4.734274, 0.266065, 3.083319, 6.521272, 9.097682])</pre></div></li><li class='xr-var-item'><div class='xr-var-name'><span>northing</span></div><div class='xr-var-dims'>(loc)</div><div class='xr-var-dtype'>float64</div><div class='xr-var-preview xr-preview'>9.365 9.206 9.064 ... 0.468 0.3523</div><input id='attrs-86023890-2a20-4d16-8a18-3bc4da8306a8' class='xr-var-attrs-in' type='checkbox' disabled><label for='attrs-86023890-2a20-4d16-8a18-3bc4da8306a8' title='Show/Hide attributes'><svg class='icon xr-icon-file-text2'><use xlink:href='#icon-file-text2'></use></svg></label><input id='data-41da072e-44a7-4940-abcc-81f0fb49bc7e' class='xr-var-data-in' type='checkbox'><label for='data-41da072e-44a7-4940-abcc-81f0fb49bc7e' title='Show/Hide data repr'><svg class='icon xr-icon-database'><use xlink:href='#icon-database'></use></svg></label><div class='xr-var-attrs'><dl class='xr-attrs'></dl></div><div class='xr-var-data'><pre>array([9.364982, 9.205688, 9.064467, 9.072912, 6.684166, 6.473407,\n",
       "       6.390791, 6.339959, 3.655113, 3.488044, 3.322999, 3.271743,\n",
       "       5.055578, 0.761886, 0.610396, 0.467969, 0.352297])</pre></div></li><li class='xr-var-item'><div class='xr-var-name'><span>z</span></div><div class='xr-var-dims'>(loc)</div><div class='xr-var-dtype'>float64</div><div class='xr-var-preview xr-preview'>2.737 2.728 2.711 ... 2.605 2.597</div><input id='attrs-d85e0033-3613-4de3-a774-3b58f1b89ef7' class='xr-var-attrs-in' type='checkbox' disabled><label for='attrs-d85e0033-3613-4de3-a774-3b58f1b89ef7' title='Show/Hide attributes'><svg class='icon xr-icon-file-text2'><use xlink:href='#icon-file-text2'></use></svg></label><input id='data-ba878bf8-a739-4f89-9ae5-34c27fe0619d' class='xr-var-data-in' type='checkbox'><label for='data-ba878bf8-a739-4f89-9ae5-34c27fe0619d' title='Show/Hide data repr'><svg class='icon xr-icon-database'><use xlink:href='#icon-database'></use></svg></label><div class='xr-var-attrs'><dl class='xr-attrs'></dl></div><div class='xr-var-data'><pre>array([2.737, 2.728, 2.711, 2.756, 2.69 , 2.685, 2.632, 2.718, 2.644,\n",
       "       2.63 , 2.539, 2.584, 7.976, 2.669, 2.618, 2.605, 2.597])</pre></div></li><li class='xr-var-item'><div class='xr-var-name'><span class='xr-has-index'>time</span></div><div class='xr-var-dims'>(time)</div><div class='xr-var-dtype'>datetime64[ns]</div><div class='xr-var-preview xr-preview'>2018-03-05T13:54:00 ... 2018-03-...</div><input id='attrs-46653bfb-2e4a-43be-83b0-c6c7c9f6e348' class='xr-var-attrs-in' type='checkbox' disabled><label for='attrs-46653bfb-2e4a-43be-83b0-c6c7c9f6e348' title='Show/Hide attributes'><svg class='icon xr-icon-file-text2'><use xlink:href='#icon-file-text2'></use></svg></label><input id='data-fee71a55-577e-4297-9d5a-e1847cf326ac' class='xr-var-data-in' type='checkbox'><label for='data-fee71a55-577e-4297-9d5a-e1847cf326ac' title='Show/Hide data repr'><svg class='icon xr-icon-database'><use xlink:href='#icon-database'></use></svg></label><div class='xr-var-attrs'><dl class='xr-attrs'></dl></div><div class='xr-var-data'><pre>array([&#x27;2018-03-05T13:54:00.000000000&#x27;, &#x27;2018-03-05T13:54:00.100000000&#x27;,\n",
       "       &#x27;2018-03-05T13:54:00.200000000&#x27;, ..., &#x27;2018-03-05T15:34:52.800000000&#x27;,\n",
       "       &#x27;2018-03-05T15:34:52.900000000&#x27;, &#x27;2018-03-05T15:34:53.000000000&#x27;],\n",
       "      dtype=&#x27;datetime64[ns]&#x27;)</pre></div></li></ul></div></li><li class='xr-section-item'><input id='section-b54310a7-0e43-4666-83d6-b1e01c4e317a' class='xr-section-summary-in' type='checkbox'  checked><label for='section-b54310a7-0e43-4666-83d6-b1e01c4e317a' class='xr-section-summary' >Data variables: <span>(9)</span></label><div class='xr-section-inline-details'></div><div class='xr-section-details'><ul class='xr-var-list'><li class='xr-var-item'><div class='xr-var-name'><span>u</span></div><div class='xr-var-dims'>(loc, time)</div><div class='xr-var-dtype'>float64</div><div class='xr-var-preview xr-preview'>0.27 0.27 0.1 ... 1.02 0.99 1.05</div><input id='attrs-cefb66c0-b2ec-49aa-a9a2-876b1fa01bf8' class='xr-var-attrs-in' type='checkbox' disabled><label for='attrs-cefb66c0-b2ec-49aa-a9a2-876b1fa01bf8' title='Show/Hide attributes'><svg class='icon xr-icon-file-text2'><use xlink:href='#icon-file-text2'></use></svg></label><input id='data-24973ba8-ec8d-416b-944b-e57e1f296da3' class='xr-var-data-in' type='checkbox'><label for='data-24973ba8-ec8d-416b-944b-e57e1f296da3' title='Show/Hide data repr'><svg class='icon xr-icon-database'><use xlink:href='#icon-database'></use></svg></label><div class='xr-var-attrs'><dl class='xr-attrs'></dl></div><div class='xr-var-data'><pre>array([[ 0.27,  0.27,  0.1 , ...,  0.46,  0.24,  0.42],\n",
       "       [ 0.07,  0.04,  0.08, ...,  0.91,  0.88,  0.83],\n",
       "       [-0.03, -0.09, -0.02, ...,  1.25,  1.1 ,  1.33],\n",
       "       ...,\n",
       "       [-0.05,  0.  ,  0.02, ...,  0.63,  0.6 ,  0.44],\n",
       "       [-0.14, -0.14, -0.16, ...,  0.41,  0.39,  0.4 ],\n",
       "       [-0.41, -0.59, -0.5 , ...,  1.02,  0.99,  1.05]])</pre></div></li><li class='xr-var-item'><div class='xr-var-name'><span>v</span></div><div class='xr-var-dims'>(loc, time)</div><div class='xr-var-dtype'>float64</div><div class='xr-var-preview xr-preview'>1.34 1.36 1.41 ... 0.58 0.77 0.62</div><input id='attrs-c40ec003-3a88-4ec6-a527-0d1481f6296c' class='xr-var-attrs-in' type='checkbox' disabled><label for='attrs-c40ec003-3a88-4ec6-a527-0d1481f6296c' title='Show/Hide attributes'><svg class='icon xr-icon-file-text2'><use xlink:href='#icon-file-text2'></use></svg></label><input id='data-871d2b57-7f77-495d-aa84-4d7fd3755d3e' class='xr-var-data-in' type='checkbox'><label for='data-871d2b57-7f77-495d-aa84-4d7fd3755d3e' title='Show/Hide data repr'><svg class='icon xr-icon-database'><use xlink:href='#icon-database'></use></svg></label><div class='xr-var-attrs'><dl class='xr-attrs'></dl></div><div class='xr-var-data'><pre>array([[1.34, 1.36, 1.41, ..., 1.11, 1.19, 1.  ],\n",
       "       [0.92, 0.96, 0.88, ..., 1.22, 1.1 , 1.23],\n",
       "       [0.67, 0.67, 0.74, ..., 1.47, 1.36, 1.28],\n",
       "       ...,\n",
       "       [0.51, 0.44, 0.49, ..., 0.94, 0.79, 0.76],\n",
       "       [0.8 , 0.87, 0.9 , ..., 0.82, 0.82, 0.81],\n",
       "       [0.89, 0.92, 0.9 , ..., 0.58, 0.77, 0.62]])</pre></div></li><li class='xr-var-item'><div class='xr-var-name'><span>w</span></div><div class='xr-var-dims'>(loc, time)</div><div class='xr-var-dtype'>float64</div><div class='xr-var-preview xr-preview'>-0.18 -0.17 -0.25 ... 0.15 0.24 0.1</div><input id='attrs-c30fc2e8-3577-433c-8b40-f643c1d5bf22' class='xr-var-attrs-in' type='checkbox' disabled><label for='attrs-c30fc2e8-3577-433c-8b40-f643c1d5bf22' title='Show/Hide attributes'><svg class='icon xr-icon-file-text2'><use xlink:href='#icon-file-text2'></use></svg></label><input id='data-08854ab4-4b75-4f2c-bbf0-e95671d3f692' class='xr-var-data-in' type='checkbox'><label for='data-08854ab4-4b75-4f2c-bbf0-e95671d3f692' title='Show/Hide data repr'><svg class='icon xr-icon-database'><use xlink:href='#icon-database'></use></svg></label><div class='xr-var-attrs'><dl class='xr-attrs'></dl></div><div class='xr-var-data'><pre>array([[-0.18, -0.17, -0.25, ..., -0.32, -0.14,  0.41],\n",
       "       [-0.03, -0.03, -0.08, ...,  0.18,  0.07,  0.29],\n",
       "       [-0.12, -0.07, -0.05, ..., -0.11, -0.06, -0.03],\n",
       "       ...,\n",
       "       [ 0.05,  0.07,  0.09, ..., -0.07, -0.07,  0.04],\n",
       "       [ 0.01,  0.01,  0.  , ...,  0.05,  0.07,  0.04],\n",
       "       [-0.05, -0.12, -0.04, ...,  0.15,  0.24,  0.1 ]])</pre></div></li><li class='xr-var-item'><div class='xr-var-name'><span>error_code</span></div><div class='xr-var-dims'>(loc, time)</div><div class='xr-var-dtype'>float64</div><div class='xr-var-preview xr-preview'>0.0 0.0 0.0 0.0 ... 0.0 0.0 0.0 0.0</div><input id='attrs-37928bb9-1684-4800-94b1-0d2a652e0988' class='xr-var-attrs-in' type='checkbox' disabled><label for='attrs-37928bb9-1684-4800-94b1-0d2a652e0988' title='Show/Hide attributes'><svg class='icon xr-icon-file-text2'><use xlink:href='#icon-file-text2'></use></svg></label><input id='data-90d458f6-d08b-4559-840d-76cbbec4b022' class='xr-var-data-in' type='checkbox'><label for='data-90d458f6-d08b-4559-840d-76cbbec4b022' title='Show/Hide data repr'><svg class='icon xr-icon-database'><use xlink:href='#icon-database'></use></svg></label><div class='xr-var-attrs'><dl class='xr-attrs'></dl></div><div class='xr-var-data'><pre>array([[0., 0., 0., ..., 0., 0., 0.],\n",
       "       [0., 0., 0., ..., 0., 0., 0.],\n",
       "       [0., 0., 0., ..., 0., 0., 0.],\n",
       "       ...,\n",
       "       [0., 0., 0., ..., 0., 0., 0.],\n",
       "       [0., 0., 0., ..., 0., 0., 0.],\n",
       "       [0., 0., 0., ..., 0., 0., 0.]])</pre></div></li><li class='xr-var-item'><div class='xr-var-name'><span>speed</span></div><div class='xr-var-dims'>(loc, time)</div><div class='xr-var-dtype'>float64</div><div class='xr-var-preview xr-preview'>1.379 1.397 1.435 ... 1.277 1.223</div><input id='attrs-1ed24b83-baf0-41a4-ba27-5a9f2f3e10b4' class='xr-var-attrs-in' type='checkbox' disabled><label for='attrs-1ed24b83-baf0-41a4-ba27-5a9f2f3e10b4' title='Show/Hide attributes'><svg class='icon xr-icon-file-text2'><use xlink:href='#icon-file-text2'></use></svg></label><input id='data-4119c97a-b5c6-4f1c-ac54-ba09d87f446e' class='xr-var-data-in' type='checkbox'><label for='data-4119c97a-b5c6-4f1c-ac54-ba09d87f446e' title='Show/Hide data repr'><svg class='icon xr-icon-database'><use xlink:href='#icon-database'></use></svg></label><div class='xr-var-attrs'><dl class='xr-attrs'></dl></div><div class='xr-var-data'><pre>array([[1.3787313 , 1.39692519, 1.43547901, ..., 1.2434227 , 1.22200655,\n",
       "        1.15952577],\n",
       "       [0.92314679, 0.9613012 , 0.88724292, ..., 1.53261215, 1.41042547,\n",
       "        1.51191931],\n",
       "       [0.68132224, 0.67963225, 0.74195687, ..., 1.93274416, 1.75019999,\n",
       "        1.84613109],\n",
       "       ...,\n",
       "       [0.51487863, 0.44553339, 0.49859803, ..., 1.13375482, 0.99448479,\n",
       "        0.87909044],\n",
       "       [0.81221918, 0.88124911, 0.91411159, ..., 0.91815031, 0.91071401,\n",
       "        0.90426766],\n",
       "       [0.98117277, 1.09949989, 1.03033975, ..., 1.18292012, 1.27694949,\n",
       "        1.22347865]])</pre></div></li><li class='xr-var-item'><div class='xr-var-name'><span>uv_speed</span></div><div class='xr-var-dims'>(loc, time)</div><div class='xr-var-dtype'>float64</div><div class='xr-var-preview xr-preview'>1.367 1.387 1.414 ... 1.254 1.219</div><input id='attrs-a9c91ea0-b5fc-4f8b-a167-aa4641171b28' class='xr-var-attrs-in' type='checkbox' disabled><label for='attrs-a9c91ea0-b5fc-4f8b-a167-aa4641171b28' title='Show/Hide attributes'><svg class='icon xr-icon-file-text2'><use xlink:href='#icon-file-text2'></use></svg></label><input id='data-10240fd0-e3cc-4200-8df4-fdd31659a29e' class='xr-var-data-in' type='checkbox'><label for='data-10240fd0-e3cc-4200-8df4-fdd31659a29e' title='Show/Hide data repr'><svg class='icon xr-icon-database'><use xlink:href='#icon-database'></use></svg></label><div class='xr-var-attrs'><dl class='xr-attrs'></dl></div><div class='xr-var-data'><pre>array([[1.36693087, 1.38654246, 1.41354165, ..., 1.20154068, 1.21396046,\n",
       "        1.08461975],\n",
       "       [0.9226592 , 0.96083297, 0.88362888, ..., 1.52200526, 1.40868733,\n",
       "        1.48384635],\n",
       "       [0.67067131, 0.67601775, 0.74027022, ..., 1.92961136, 1.74917123,\n",
       "        1.84588732],\n",
       "       ...,\n",
       "       [0.51244512, 0.44      , 0.49040799, ..., 1.1315918 , 0.99201814,\n",
       "        0.87817994],\n",
       "       [0.81215762, 0.88119237, 0.91411159, ..., 0.91678787, 0.90801982,\n",
       "        0.90338253],\n",
       "       [0.97989795, 1.09293184, 1.02956301, ..., 1.17337121, 1.25419297,\n",
       "        1.21938509]])</pre></div></li><li class='xr-var-item'><div class='xr-var-name'><span>uv_bearing</span></div><div class='xr-var-dims'>(loc, time)</div><div class='xr-var-dtype'>float64</div><div class='xr-var-preview xr-preview'>11.39 11.23 4.057 ... 52.13 59.44</div><input id='attrs-c1877476-330d-4b67-90df-f01aecd51911' class='xr-var-attrs-in' type='checkbox' disabled><label for='attrs-c1877476-330d-4b67-90df-f01aecd51911' title='Show/Hide attributes'><svg class='icon xr-icon-file-text2'><use xlink:href='#icon-file-text2'></use></svg></label><input id='data-6ed97dbb-6660-4019-b667-e739880ed80e' class='xr-var-data-in' type='checkbox'><label for='data-6ed97dbb-6660-4019-b667-e739880ed80e' title='Show/Hide data repr'><svg class='icon xr-icon-database'><use xlink:href='#icon-database'></use></svg></label><div class='xr-var-attrs'><dl class='xr-attrs'></dl></div><div class='xr-var-data'><pre>array([[ 11.39213583,  11.22889182,   4.05673786, ...,  22.50982197,\n",
       "         11.40249423,  22.78240573],\n",
       "       [  4.35107795,   2.38594403,   5.19442891, ...,  36.71931776,\n",
       "         38.65980825,  34.0113489 ],\n",
       "       [357.43622979, 352.34934904, 358.4518423 , ...,  40.37584867,\n",
       "         38.96674699,  46.09748605],\n",
       "       ...,\n",
       "       [354.40066066,   0.        ,   2.33730586, ...,  33.83049808,\n",
       "         37.21644047,  30.06858282],\n",
       "       [350.07375449, 350.85835978, 349.91940201, ...,  26.56505118,\n",
       "         25.43621638,  26.28141102],\n",
       "       [335.26569747, 327.32777071, 330.9453959 , ...,  60.37625125,\n",
       "         52.12501635,  59.43916073]])</pre></div></li><li class='xr-var-item'><div class='xr-var-name'><span>w_speed</span></div><div class='xr-var-dims'>(loc, time)</div><div class='xr-var-dtype'>float64</div><div class='xr-var-preview xr-preview'>0.18 0.17 0.25 ... 0.15 0.24 0.1</div><input id='attrs-253acef0-6848-47d8-90d9-01548f2c64ad' class='xr-var-attrs-in' type='checkbox' disabled><label for='attrs-253acef0-6848-47d8-90d9-01548f2c64ad' title='Show/Hide attributes'><svg class='icon xr-icon-file-text2'><use xlink:href='#icon-file-text2'></use></svg></label><input id='data-7e6babe8-86b5-40e8-b0f8-7a8bba7e6cf7' class='xr-var-data-in' type='checkbox'><label for='data-7e6babe8-86b5-40e8-b0f8-7a8bba7e6cf7' title='Show/Hide data repr'><svg class='icon xr-icon-database'><use xlink:href='#icon-database'></use></svg></label><div class='xr-var-attrs'><dl class='xr-attrs'></dl></div><div class='xr-var-data'><pre>array([[0.18, 0.17, 0.25, ..., 0.32, 0.14, 0.41],\n",
       "       [0.03, 0.03, 0.08, ..., 0.18, 0.07, 0.29],\n",
       "       [0.12, 0.07, 0.05, ..., 0.11, 0.06, 0.03],\n",
       "       ...,\n",
       "       [0.05, 0.07, 0.09, ..., 0.07, 0.07, 0.04],\n",
       "       [0.01, 0.01, 0.  , ..., 0.05, 0.07, 0.04],\n",
       "       [0.05, 0.12, 0.04, ..., 0.15, 0.24, 0.1 ]])</pre></div></li><li class='xr-var-item'><div class='xr-var-name'><span>w_dir</span></div><div class='xr-var-dims'>(loc, time)</div><div class='xr-var-dtype'>int64</div><div class='xr-var-preview xr-preview'>-1 -1 -1 -1 -1 -1 ... 1 1 1 1 1 1</div><input id='attrs-ea5d908c-1a61-469c-b92e-574b663e31fb' class='xr-var-attrs-in' type='checkbox' disabled><label for='attrs-ea5d908c-1a61-469c-b92e-574b663e31fb' title='Show/Hide attributes'><svg class='icon xr-icon-file-text2'><use xlink:href='#icon-file-text2'></use></svg></label><input id='data-f464d3a4-2b71-4489-a06c-611184e39199' class='xr-var-data-in' type='checkbox'><label for='data-f464d3a4-2b71-4489-a06c-611184e39199' title='Show/Hide data repr'><svg class='icon xr-icon-database'><use xlink:href='#icon-database'></use></svg></label><div class='xr-var-attrs'><dl class='xr-attrs'></dl></div><div class='xr-var-data'><pre>array([[-1, -1, -1, ..., -1, -1,  1],\n",
       "       [-1, -1, -1, ...,  1,  1,  1],\n",
       "       [-1, -1, -1, ..., -1, -1, -1],\n",
       "       ...,\n",
       "       [ 1,  1,  1, ..., -1, -1,  1],\n",
       "       [ 1,  1,  0, ...,  1,  1,  1],\n",
       "       [-1, -1, -1, ...,  1,  1,  1]])</pre></div></li></ul></div></li><li class='xr-section-item'><input id='section-44ca28ec-4eb6-4d57-a6de-9951db50cb3a' class='xr-section-summary-in' type='checkbox'  ><label for='section-44ca28ec-4eb6-4d57-a6de-9951db50cb3a' class='xr-section-summary' >Indexes: <span>(1)</span></label><div class='xr-section-inline-details'></div><div class='xr-section-details'><ul class='xr-var-list'><li class='xr-var-item'><div class='xr-index-name'><div>time</div></div><div class='xr-index-preview'>PandasIndex</div><div></div><input id='index-64474f9e-e9a8-4c05-9377-daf855f9f2cb' class='xr-index-data-in' type='checkbox'/><label for='index-64474f9e-e9a8-4c05-9377-daf855f9f2cb' title='Show/Hide index repr'><svg class='icon xr-icon-database'><use xlink:href='#icon-database'></use></svg></label><div class='xr-index-data'><pre>PandasIndex(DatetimeIndex([       &#x27;2018-03-05 13:54:00&#x27;, &#x27;2018-03-05 13:54:00.100000&#x27;,\n",
       "               &#x27;2018-03-05 13:54:00.200000&#x27;, &#x27;2018-03-05 13:54:00.300000&#x27;,\n",
       "               &#x27;2018-03-05 13:54:00.400000&#x27;, &#x27;2018-03-05 13:54:00.500000&#x27;,\n",
       "               &#x27;2018-03-05 13:54:00.600000&#x27;, &#x27;2018-03-05 13:54:00.700000&#x27;,\n",
       "               &#x27;2018-03-05 13:54:00.800000&#x27;, &#x27;2018-03-05 13:54:00.900000&#x27;,\n",
       "               ...\n",
       "               &#x27;2018-03-05 15:34:52.100000&#x27;, &#x27;2018-03-05 15:34:52.200000&#x27;,\n",
       "               &#x27;2018-03-05 15:34:52.300000&#x27;, &#x27;2018-03-05 15:34:52.400000&#x27;,\n",
       "               &#x27;2018-03-05 15:34:52.500000&#x27;, &#x27;2018-03-05 15:34:52.600000&#x27;,\n",
       "               &#x27;2018-03-05 15:34:52.700000&#x27;, &#x27;2018-03-05 15:34:52.800000&#x27;,\n",
       "               &#x27;2018-03-05 15:34:52.900000&#x27;,        &#x27;2018-03-05 15:34:53&#x27;],\n",
       "              dtype=&#x27;datetime64[ns]&#x27;, name=&#x27;time&#x27;, length=60531, freq=None))</pre></div></li></ul></div></li><li class='xr-section-item'><input id='section-b3630741-100f-41da-9140-2bffa7ffc004' class='xr-section-summary-in' type='checkbox' disabled ><label for='section-b3630741-100f-41da-9140-2bffa7ffc004' class='xr-section-summary'  title='Expand/collapse section'>Attributes: <span>(0)</span></label><div class='xr-section-inline-details'></div><div class='xr-section-details'><dl class='xr-attrs'></dl></div></li></ul></div></div>"
      ],
      "text/plain": [
       "<xarray.Dataset>\n",
       "Dimensions:     (loc: 17, time: 60531)\n",
       "Coordinates:\n",
       "    id          (loc) <U2 'A1' 'A2' 'A3' 'A4' 'B1' ... 'CT' 'D1' 'D2' 'D3' 'D4'\n",
       "    easting     (loc) float64 0.6993 3.451 6.778 9.267 ... 3.083 6.521 9.098\n",
       "    northing    (loc) float64 9.365 9.206 9.064 9.073 ... 0.6104 0.468 0.3523\n",
       "    z           (loc) float64 2.737 2.728 2.711 2.756 ... 2.618 2.605 2.597\n",
       "  * time        (time) datetime64[ns] 2018-03-05T13:54:00 ... 2018-03-05T15:3...\n",
       "Dimensions without coordinates: loc\n",
       "Data variables:\n",
       "    u           (loc, time) float64 0.27 0.27 0.1 0.05 ... 1.04 1.02 0.99 1.05\n",
       "    v           (loc, time) float64 1.34 1.36 1.41 1.29 ... 0.7 0.58 0.77 0.62\n",
       "    w           (loc, time) float64 -0.18 -0.17 -0.25 -0.41 ... 0.15 0.24 0.1\n",
       "    error_code  (loc, time) float64 0.0 0.0 0.0 0.0 0.0 ... 0.0 0.0 0.0 0.0 0.0\n",
       "    speed       (loc, time) float64 1.379 1.397 1.435 ... 1.183 1.277 1.223\n",
       "    uv_speed    (loc, time) float64 1.367 1.387 1.414 ... 1.173 1.254 1.219\n",
       "    uv_bearing  (loc, time) float64 11.39 11.23 4.057 2.22 ... 60.38 52.13 59.44\n",
       "    w_speed     (loc, time) float64 0.18 0.17 0.25 0.41 ... 0.29 0.15 0.24 0.1\n",
       "    w_dir       (loc, time) int64 -1 -1 -1 -1 -1 -1 -1 -1 -1 ... 1 1 1 1 1 1 1 1"
      ]
     },
     "metadata": {},
     "output_type": "display_data"
    }
   ],
   "source": [
    "for var, data in calc_data.items():\n",
    "    dataset = dataset.update({var: ([loc_dim, 'time'], data)})\n",
    "\n",
    "del calc_data, var, data\n",
    "display(dataset)"
   ]
  },
  {
   "cell_type": "markdown",
   "id": "bca60533",
   "metadata": {},
   "source": [
    "-------------------------------------------------------------------------------------\n",
    "\n",
    "## Generatate statistics\n",
    "\n",
    "Calc min / max windspeed with their timestamps, and number of missing values and errors."
   ]
  },
  {
   "cell_type": "code",
   "execution_count": 29,
   "id": "10d9e25f",
   "metadata": {},
   "outputs": [
    {
     "name": "stdout",
     "output_type": "stream",
     "text": [
      "Raw data summary statistics for variable \"speed\".\n"
     ]
    },
    {
     "data": {
      "text/html": [
       "<div>\n",
       "<style scoped>\n",
       "    .dataframe tbody tr th:only-of-type {\n",
       "        vertical-align: middle;\n",
       "    }\n",
       "\n",
       "    .dataframe tbody tr th {\n",
       "        vertical-align: top;\n",
       "    }\n",
       "\n",
       "    .dataframe thead th {\n",
       "        text-align: right;\n",
       "    }\n",
       "</style>\n",
       "<table border=\"1\" class=\"dataframe\">\n",
       "  <thead>\n",
       "    <tr style=\"text-align: right;\">\n",
       "      <th></th>\n",
       "      <th>Sensor</th>\n",
       "      <th>max_speed</th>\n",
       "      <th>time_max_speed</th>\n",
       "      <th>speed_count_over_3</th>\n",
       "      <th>min_speed</th>\n",
       "      <th>time_min_speed</th>\n",
       "      <th>speed_nan</th>\n",
       "      <th>speed_errors</th>\n",
       "    </tr>\n",
       "    <tr>\n",
       "      <th>loc</th>\n",
       "      <th></th>\n",
       "      <th></th>\n",
       "      <th></th>\n",
       "      <th></th>\n",
       "      <th></th>\n",
       "      <th></th>\n",
       "      <th></th>\n",
       "      <th></th>\n",
       "    </tr>\n",
       "  </thead>\n",
       "  <tbody>\n",
       "    <tr>\n",
       "      <th>0</th>\n",
       "      <td>A1</td>\n",
       "      <td>5.066794</td>\n",
       "      <td>2018-03-05 15:30:01.700</td>\n",
       "      <td>529</td>\n",
       "      <td>0.000000</td>\n",
       "      <td>2018-03-05 14:33:19.000</td>\n",
       "      <td>0</td>\n",
       "      <td>0</td>\n",
       "    </tr>\n",
       "    <tr>\n",
       "      <th>1</th>\n",
       "      <td>A2</td>\n",
       "      <td>6.421573</td>\n",
       "      <td>2018-03-05 14:33:35.000</td>\n",
       "      <td>933</td>\n",
       "      <td>0.014142</td>\n",
       "      <td>2018-03-05 14:59:11.200</td>\n",
       "      <td>0</td>\n",
       "      <td>0</td>\n",
       "    </tr>\n",
       "    <tr>\n",
       "      <th>2</th>\n",
       "      <td>A3</td>\n",
       "      <td>138.625664</td>\n",
       "      <td>2018-03-05 15:21:31.500</td>\n",
       "      <td>579</td>\n",
       "      <td>0.000000</td>\n",
       "      <td>2018-03-05 15:01:03.800</td>\n",
       "      <td>0</td>\n",
       "      <td>2</td>\n",
       "    </tr>\n",
       "    <tr>\n",
       "      <th>3</th>\n",
       "      <td>A4</td>\n",
       "      <td>5.391976</td>\n",
       "      <td>2018-03-05 15:16:28.900</td>\n",
       "      <td>708</td>\n",
       "      <td>0.000000</td>\n",
       "      <td>2018-03-05 14:18:26.200</td>\n",
       "      <td>0</td>\n",
       "      <td>0</td>\n",
       "    </tr>\n",
       "    <tr>\n",
       "      <th>4</th>\n",
       "      <td>B1</td>\n",
       "      <td>4.616059</td>\n",
       "      <td>2018-03-05 14:09:14.300</td>\n",
       "      <td>367</td>\n",
       "      <td>0.000000</td>\n",
       "      <td>2018-03-05 14:02:23.300</td>\n",
       "      <td>0</td>\n",
       "      <td>0</td>\n",
       "    </tr>\n",
       "    <tr>\n",
       "      <th>5</th>\n",
       "      <td>B2</td>\n",
       "      <td>4.713237</td>\n",
       "      <td>2018-03-05 15:29:59.500</td>\n",
       "      <td>669</td>\n",
       "      <td>0.010000</td>\n",
       "      <td>2018-03-05 14:38:07.500</td>\n",
       "      <td>0</td>\n",
       "      <td>0</td>\n",
       "    </tr>\n",
       "    <tr>\n",
       "      <th>6</th>\n",
       "      <td>B3</td>\n",
       "      <td>4.578144</td>\n",
       "      <td>2018-03-05 15:16:29.600</td>\n",
       "      <td>529</td>\n",
       "      <td>0.022361</td>\n",
       "      <td>2018-03-05 14:59:25.200</td>\n",
       "      <td>0</td>\n",
       "      <td>0</td>\n",
       "    </tr>\n",
       "    <tr>\n",
       "      <th>7</th>\n",
       "      <td>B4</td>\n",
       "      <td>4.451674</td>\n",
       "      <td>2018-03-05 15:29:58.200</td>\n",
       "      <td>534</td>\n",
       "      <td>0.041231</td>\n",
       "      <td>2018-03-05 14:06:04.100</td>\n",
       "      <td>0</td>\n",
       "      <td>0</td>\n",
       "    </tr>\n",
       "    <tr>\n",
       "      <th>8</th>\n",
       "      <td>C1</td>\n",
       "      <td>4.495097</td>\n",
       "      <td>2018-03-05 14:09:15.200</td>\n",
       "      <td>338</td>\n",
       "      <td>0.010000</td>\n",
       "      <td>2018-03-05 14:03:58.900</td>\n",
       "      <td>0</td>\n",
       "      <td>1</td>\n",
       "    </tr>\n",
       "    <tr>\n",
       "      <th>9</th>\n",
       "      <td>C2</td>\n",
       "      <td>4.656726</td>\n",
       "      <td>2018-03-05 15:16:30.900</td>\n",
       "      <td>476</td>\n",
       "      <td>0.000000</td>\n",
       "      <td>2018-03-05 14:18:25.200</td>\n",
       "      <td>0</td>\n",
       "      <td>0</td>\n",
       "    </tr>\n",
       "    <tr>\n",
       "      <th>10</th>\n",
       "      <td>C3</td>\n",
       "      <td>142.745684</td>\n",
       "      <td>2018-03-05 14:16:50.900</td>\n",
       "      <td>391</td>\n",
       "      <td>0.010000</td>\n",
       "      <td>2018-03-05 13:54:18.800</td>\n",
       "      <td>0</td>\n",
       "      <td>2</td>\n",
       "    </tr>\n",
       "    <tr>\n",
       "      <th>11</th>\n",
       "      <td>C4</td>\n",
       "      <td>5.253732</td>\n",
       "      <td>2018-03-05 15:30:00.200</td>\n",
       "      <td>376</td>\n",
       "      <td>0.010000</td>\n",
       "      <td>2018-03-05 14:29:10.100</td>\n",
       "      <td>0</td>\n",
       "      <td>0</td>\n",
       "    </tr>\n",
       "    <tr>\n",
       "      <th>12</th>\n",
       "      <td>CT</td>\n",
       "      <td>7.635745</td>\n",
       "      <td>2018-03-05 14:09:01.000</td>\n",
       "      <td>285</td>\n",
       "      <td>0.000000</td>\n",
       "      <td>2018-03-05 14:01:18.000</td>\n",
       "      <td>0</td>\n",
       "      <td>0</td>\n",
       "    </tr>\n",
       "    <tr>\n",
       "      <th>13</th>\n",
       "      <td>D1</td>\n",
       "      <td>137.402120</td>\n",
       "      <td>2018-03-05 14:41:25.600</td>\n",
       "      <td>304</td>\n",
       "      <td>0.000000</td>\n",
       "      <td>2018-03-05 14:12:07.600</td>\n",
       "      <td>1</td>\n",
       "      <td>1</td>\n",
       "    </tr>\n",
       "    <tr>\n",
       "      <th>14</th>\n",
       "      <td>D2</td>\n",
       "      <td>139.904405</td>\n",
       "      <td>2018-03-05 14:41:39.400</td>\n",
       "      <td>276</td>\n",
       "      <td>0.010000</td>\n",
       "      <td>2018-03-05 14:43:23.500</td>\n",
       "      <td>0</td>\n",
       "      <td>1</td>\n",
       "    </tr>\n",
       "    <tr>\n",
       "      <th>15</th>\n",
       "      <td>D3</td>\n",
       "      <td>145.085282</td>\n",
       "      <td>2018-03-05 14:10:42.100</td>\n",
       "      <td>268</td>\n",
       "      <td>0.000000</td>\n",
       "      <td>2018-03-05 14:41:31.400</td>\n",
       "      <td>0</td>\n",
       "      <td>6</td>\n",
       "    </tr>\n",
       "    <tr>\n",
       "      <th>16</th>\n",
       "      <td>D4</td>\n",
       "      <td>149.799460</td>\n",
       "      <td>2018-03-05 14:12:07.100</td>\n",
       "      <td>269</td>\n",
       "      <td>0.000000</td>\n",
       "      <td>2018-03-05 14:02:30.000</td>\n",
       "      <td>1</td>\n",
       "      <td>6</td>\n",
       "    </tr>\n",
       "  </tbody>\n",
       "</table>\n",
       "</div>"
      ],
      "text/plain": [
       "    Sensor   max_speed          time_max_speed  speed_count_over_3  min_speed  \\\n",
       "loc                                                                             \n",
       "0       A1    5.066794 2018-03-05 15:30:01.700                 529   0.000000   \n",
       "1       A2    6.421573 2018-03-05 14:33:35.000                 933   0.014142   \n",
       "2       A3  138.625664 2018-03-05 15:21:31.500                 579   0.000000   \n",
       "3       A4    5.391976 2018-03-05 15:16:28.900                 708   0.000000   \n",
       "4       B1    4.616059 2018-03-05 14:09:14.300                 367   0.000000   \n",
       "5       B2    4.713237 2018-03-05 15:29:59.500                 669   0.010000   \n",
       "6       B3    4.578144 2018-03-05 15:16:29.600                 529   0.022361   \n",
       "7       B4    4.451674 2018-03-05 15:29:58.200                 534   0.041231   \n",
       "8       C1    4.495097 2018-03-05 14:09:15.200                 338   0.010000   \n",
       "9       C2    4.656726 2018-03-05 15:16:30.900                 476   0.000000   \n",
       "10      C3  142.745684 2018-03-05 14:16:50.900                 391   0.010000   \n",
       "11      C4    5.253732 2018-03-05 15:30:00.200                 376   0.010000   \n",
       "12      CT    7.635745 2018-03-05 14:09:01.000                 285   0.000000   \n",
       "13      D1  137.402120 2018-03-05 14:41:25.600                 304   0.000000   \n",
       "14      D2  139.904405 2018-03-05 14:41:39.400                 276   0.010000   \n",
       "15      D3  145.085282 2018-03-05 14:10:42.100                 268   0.000000   \n",
       "16      D4  149.799460 2018-03-05 14:12:07.100                 269   0.000000   \n",
       "\n",
       "             time_min_speed  speed_nan  speed_errors  \n",
       "loc                                                   \n",
       "0   2018-03-05 14:33:19.000          0             0  \n",
       "1   2018-03-05 14:59:11.200          0             0  \n",
       "2   2018-03-05 15:01:03.800          0             2  \n",
       "3   2018-03-05 14:18:26.200          0             0  \n",
       "4   2018-03-05 14:02:23.300          0             0  \n",
       "5   2018-03-05 14:38:07.500          0             0  \n",
       "6   2018-03-05 14:59:25.200          0             0  \n",
       "7   2018-03-05 14:06:04.100          0             0  \n",
       "8   2018-03-05 14:03:58.900          0             1  \n",
       "9   2018-03-05 14:18:25.200          0             0  \n",
       "10  2018-03-05 13:54:18.800          0             2  \n",
       "11  2018-03-05 14:29:10.100          0             0  \n",
       "12  2018-03-05 14:01:18.000          0             0  \n",
       "13  2018-03-05 14:12:07.600          1             1  \n",
       "14  2018-03-05 14:43:23.500          0             1  \n",
       "15  2018-03-05 14:41:31.400          0             6  \n",
       "16  2018-03-05 14:02:30.000          1             6  "
      ]
     },
     "metadata": {},
     "output_type": "display_data"
    }
   ],
   "source": [
    "# choose one of the variables (look above under \"Data Variables\") for which to display status below\n",
    "var = 'speed'\n",
    "\n",
    "print(f'Raw data summary statistics for variable \"{var}\".')\n",
    "display(gen_stats(dataset, var, 'time', 3))"
   ]
  },
  {
   "cell_type": "markdown",
   "id": "ce2d7df8",
   "metadata": {},
   "source": [
    "-------------------------------------------------------------------------------------\n",
    "\n",
    "## Aggregate to minute resolution\n",
    "\n",
    "Aggregate"
   ]
  },
  {
   "cell_type": "code",
   "execution_count": 30,
   "id": "806a8a01",
   "metadata": {},
   "outputs": [
    {
     "data": {
      "text/plain": [
       "Data variables:\n",
       "    u           (minute, loc) float64 -0.05152 -0.1179 ... -0.1648 -0.3194\n",
       "    v           (minute, loc) float64 0.7642 0.9007 0.8588 ... 0.5948 0.662\n",
       "    w           (minute, loc) float64 -0.0218 -0.01198 ... -0.06341 -0.06387\n",
       "    error_code  (minute, loc) float64 0.0 0.0 0.0 0.0 0.0 ... 0.0 0.0 0.0 0.0\n",
       "    speed       (minute, loc) float64 1.067 1.205 1.207 ... 0.9611 1.062 1.042\n",
       "    uv_speed    (minute, loc) float64 1.04 1.178 1.178 ... 0.8733 0.9986 0.9876\n",
       "    uv_bearing  (minute, loc) float64 188.5 185.9 204.1 ... 168.0 192.8 221.7\n",
       "    w_speed     (minute, loc) float64 0.1873 0.1855 0.197 ... 0.2478 0.2245\n",
       "    w_dir       (minute, loc) float64 -0.1042 -0.03 0.0025 ... -0.1217 -0.2475"
      ]
     },
     "metadata": {},
     "output_type": "display_data"
    }
   ],
   "source": [
    "data_minute = dataset.groupby('time.minute').mean()\n",
    "\n",
    "display(data_minute.data_vars)"
   ]
  },
  {
   "cell_type": "code",
   "execution_count": 31,
   "id": "5d505dc7",
   "metadata": {},
   "outputs": [
    {
     "name": "stdout",
     "output_type": "stream",
     "text": [
      "Minute aggregated summary statistics for variable \"speed\".\n"
     ]
    },
    {
     "data": {
      "text/html": [
       "<div>\n",
       "<style scoped>\n",
       "    .dataframe tbody tr th:only-of-type {\n",
       "        vertical-align: middle;\n",
       "    }\n",
       "\n",
       "    .dataframe tbody tr th {\n",
       "        vertical-align: top;\n",
       "    }\n",
       "\n",
       "    .dataframe thead th {\n",
       "        text-align: right;\n",
       "    }\n",
       "</style>\n",
       "<table border=\"1\" class=\"dataframe\">\n",
       "  <thead>\n",
       "    <tr style=\"text-align: right;\">\n",
       "      <th></th>\n",
       "      <th>Sensor</th>\n",
       "      <th>max_speed</th>\n",
       "      <th>time_max_speed</th>\n",
       "      <th>speed_count_over_1</th>\n",
       "      <th>min_speed</th>\n",
       "      <th>time_min_speed</th>\n",
       "      <th>speed_nan</th>\n",
       "      <th>speed_errors</th>\n",
       "    </tr>\n",
       "    <tr>\n",
       "      <th>loc</th>\n",
       "      <th></th>\n",
       "      <th></th>\n",
       "      <th></th>\n",
       "      <th></th>\n",
       "      <th></th>\n",
       "      <th></th>\n",
       "      <th></th>\n",
       "      <th></th>\n",
       "    </tr>\n",
       "  </thead>\n",
       "  <tbody>\n",
       "    <tr>\n",
       "      <th>0</th>\n",
       "      <td>A1</td>\n",
       "      <td>1.784975</td>\n",
       "      <td>8.0</td>\n",
       "      <td>40</td>\n",
       "      <td>0.470574</td>\n",
       "      <td>43.0</td>\n",
       "      <td>0</td>\n",
       "      <td>0</td>\n",
       "    </tr>\n",
       "    <tr>\n",
       "      <th>1</th>\n",
       "      <td>A2</td>\n",
       "      <td>2.032462</td>\n",
       "      <td>32.0</td>\n",
       "      <td>44</td>\n",
       "      <td>0.481252</td>\n",
       "      <td>43.0</td>\n",
       "      <td>0</td>\n",
       "      <td>0</td>\n",
       "    </tr>\n",
       "    <tr>\n",
       "      <th>2</th>\n",
       "      <td>A3</td>\n",
       "      <td>1.809223</td>\n",
       "      <td>32.0</td>\n",
       "      <td>47</td>\n",
       "      <td>0.388816</td>\n",
       "      <td>43.0</td>\n",
       "      <td>0</td>\n",
       "      <td>2</td>\n",
       "    </tr>\n",
       "    <tr>\n",
       "      <th>3</th>\n",
       "      <td>A4</td>\n",
       "      <td>1.924148</td>\n",
       "      <td>57.0</td>\n",
       "      <td>49</td>\n",
       "      <td>0.416357</td>\n",
       "      <td>43.0</td>\n",
       "      <td>0</td>\n",
       "      <td>0</td>\n",
       "    </tr>\n",
       "    <tr>\n",
       "      <th>4</th>\n",
       "      <td>B1</td>\n",
       "      <td>1.798723</td>\n",
       "      <td>32.0</td>\n",
       "      <td>41</td>\n",
       "      <td>0.480650</td>\n",
       "      <td>38.0</td>\n",
       "      <td>0</td>\n",
       "      <td>0</td>\n",
       "    </tr>\n",
       "    <tr>\n",
       "      <th>5</th>\n",
       "      <td>B2</td>\n",
       "      <td>1.914891</td>\n",
       "      <td>32.0</td>\n",
       "      <td>44</td>\n",
       "      <td>0.460425</td>\n",
       "      <td>38.0</td>\n",
       "      <td>0</td>\n",
       "      <td>0</td>\n",
       "    </tr>\n",
       "    <tr>\n",
       "      <th>6</th>\n",
       "      <td>B3</td>\n",
       "      <td>1.788530</td>\n",
       "      <td>8.0</td>\n",
       "      <td>46</td>\n",
       "      <td>0.569390</td>\n",
       "      <td>43.0</td>\n",
       "      <td>0</td>\n",
       "      <td>0</td>\n",
       "    </tr>\n",
       "    <tr>\n",
       "      <th>7</th>\n",
       "      <td>B4</td>\n",
       "      <td>1.840220</td>\n",
       "      <td>57.0</td>\n",
       "      <td>47</td>\n",
       "      <td>0.450635</td>\n",
       "      <td>43.0</td>\n",
       "      <td>0</td>\n",
       "      <td>0</td>\n",
       "    </tr>\n",
       "    <tr>\n",
       "      <th>8</th>\n",
       "      <td>C1</td>\n",
       "      <td>1.702159</td>\n",
       "      <td>32.0</td>\n",
       "      <td>39</td>\n",
       "      <td>0.431360</td>\n",
       "      <td>38.0</td>\n",
       "      <td>0</td>\n",
       "      <td>1</td>\n",
       "    </tr>\n",
       "    <tr>\n",
       "      <th>9</th>\n",
       "      <td>C2</td>\n",
       "      <td>1.678622</td>\n",
       "      <td>8.0</td>\n",
       "      <td>40</td>\n",
       "      <td>0.433762</td>\n",
       "      <td>38.0</td>\n",
       "      <td>0</td>\n",
       "      <td>0</td>\n",
       "    </tr>\n",
       "    <tr>\n",
       "      <th>10</th>\n",
       "      <td>C3</td>\n",
       "      <td>1.800806</td>\n",
       "      <td>57.0</td>\n",
       "      <td>46</td>\n",
       "      <td>0.567910</td>\n",
       "      <td>43.0</td>\n",
       "      <td>0</td>\n",
       "      <td>1</td>\n",
       "    </tr>\n",
       "    <tr>\n",
       "      <th>11</th>\n",
       "      <td>C4</td>\n",
       "      <td>1.712465</td>\n",
       "      <td>2.0</td>\n",
       "      <td>48</td>\n",
       "      <td>0.397014</td>\n",
       "      <td>41.0</td>\n",
       "      <td>0</td>\n",
       "      <td>0</td>\n",
       "    </tr>\n",
       "    <tr>\n",
       "      <th>12</th>\n",
       "      <td>CT</td>\n",
       "      <td>1.458956</td>\n",
       "      <td>2.0</td>\n",
       "      <td>25</td>\n",
       "      <td>0.523007</td>\n",
       "      <td>38.0</td>\n",
       "      <td>0</td>\n",
       "      <td>0</td>\n",
       "    </tr>\n",
       "    <tr>\n",
       "      <th>13</th>\n",
       "      <td>D1</td>\n",
       "      <td>1.698012</td>\n",
       "      <td>8.0</td>\n",
       "      <td>40</td>\n",
       "      <td>0.503409</td>\n",
       "      <td>38.0</td>\n",
       "      <td>0</td>\n",
       "      <td>1</td>\n",
       "    </tr>\n",
       "    <tr>\n",
       "      <th>14</th>\n",
       "      <td>D2</td>\n",
       "      <td>1.681912</td>\n",
       "      <td>8.0</td>\n",
       "      <td>40</td>\n",
       "      <td>0.500526</td>\n",
       "      <td>38.0</td>\n",
       "      <td>0</td>\n",
       "      <td>1</td>\n",
       "    </tr>\n",
       "    <tr>\n",
       "      <th>15</th>\n",
       "      <td>D3</td>\n",
       "      <td>1.630242</td>\n",
       "      <td>8.0</td>\n",
       "      <td>40</td>\n",
       "      <td>0.575958</td>\n",
       "      <td>41.0</td>\n",
       "      <td>0</td>\n",
       "      <td>5</td>\n",
       "    </tr>\n",
       "    <tr>\n",
       "      <th>16</th>\n",
       "      <td>D4</td>\n",
       "      <td>1.614317</td>\n",
       "      <td>8.0</td>\n",
       "      <td>44</td>\n",
       "      <td>0.456295</td>\n",
       "      <td>41.0</td>\n",
       "      <td>0</td>\n",
       "      <td>3</td>\n",
       "    </tr>\n",
       "  </tbody>\n",
       "</table>\n",
       "</div>"
      ],
      "text/plain": [
       "    Sensor  max_speed  time_max_speed  speed_count_over_1  min_speed  \\\n",
       "loc                                                                    \n",
       "0       A1   1.784975             8.0                  40   0.470574   \n",
       "1       A2   2.032462            32.0                  44   0.481252   \n",
       "2       A3   1.809223            32.0                  47   0.388816   \n",
       "3       A4   1.924148            57.0                  49   0.416357   \n",
       "4       B1   1.798723            32.0                  41   0.480650   \n",
       "5       B2   1.914891            32.0                  44   0.460425   \n",
       "6       B3   1.788530             8.0                  46   0.569390   \n",
       "7       B4   1.840220            57.0                  47   0.450635   \n",
       "8       C1   1.702159            32.0                  39   0.431360   \n",
       "9       C2   1.678622             8.0                  40   0.433762   \n",
       "10      C3   1.800806            57.0                  46   0.567910   \n",
       "11      C4   1.712465             2.0                  48   0.397014   \n",
       "12      CT   1.458956             2.0                  25   0.523007   \n",
       "13      D1   1.698012             8.0                  40   0.503409   \n",
       "14      D2   1.681912             8.0                  40   0.500526   \n",
       "15      D3   1.630242             8.0                  40   0.575958   \n",
       "16      D4   1.614317             8.0                  44   0.456295   \n",
       "\n",
       "     time_min_speed  speed_nan  speed_errors  \n",
       "loc                                           \n",
       "0              43.0          0             0  \n",
       "1              43.0          0             0  \n",
       "2              43.0          0             2  \n",
       "3              43.0          0             0  \n",
       "4              38.0          0             0  \n",
       "5              38.0          0             0  \n",
       "6              43.0          0             0  \n",
       "7              43.0          0             0  \n",
       "8              38.0          0             1  \n",
       "9              38.0          0             0  \n",
       "10             43.0          0             1  \n",
       "11             41.0          0             0  \n",
       "12             38.0          0             0  \n",
       "13             38.0          0             1  \n",
       "14             38.0          0             1  \n",
       "15             41.0          0             5  \n",
       "16             41.0          0             3  "
      ]
     },
     "metadata": {},
     "output_type": "display_data"
    }
   ],
   "source": [
    "# choose one of the variables (look above under \"Data Variables\") for which to display status below\n",
    "var = 'speed'\n",
    "\n",
    "print(f'Minute aggregated summary statistics for variable \"{var}\".')\n",
    "display(gen_stats(data_minute, var, 'minute', 1))"
   ]
  },
  {
   "cell_type": "markdown",
   "id": "82957bbf",
   "metadata": {},
   "source": [
    "-------------------------------------------------------------------------------------\n",
    "\n",
    "## Visualizations\n",
    "\n",
    "### Select dataset and sensors"
   ]
  },
  {
   "cell_type": "code",
   "execution_count": 32,
   "id": "601e546e",
   "metadata": {},
   "outputs": [
    {
     "data": {
      "text/plain": [
       "array(['A1', 'A2', 'A3', 'A4', 'B1', 'B2', 'B3', 'B4', 'C1', 'C2', 'C3',\n",
       "       'C4', 'CT', 'D1', 'D2', 'D3', 'D4'], dtype='<U2')"
      ]
     },
     "metadata": {},
     "output_type": "display_data"
    }
   ],
   "source": [
    "# dataset and dimension corresponding to the dataset\n",
    "# Options:\n",
    "#    raw data: ds = dataset; dim = 'time'; res = 'Raw'\n",
    "#    minute data: ds = data_minute; dim = 'minute'; res = 'Minute-aggregated'\n",
    "\n",
    "ds = data_minute; dim = 'minute'; res = 'Minute-aggregated'\n",
    "display(ds.id.values)"
   ]
  },
  {
   "cell_type": "code",
   "execution_count": 33,
   "id": "abf2a390",
   "metadata": {},
   "outputs": [
    {
     "data": {
      "text/plain": [
       "[0, 1, 2, 3]"
      ]
     },
     "metadata": {},
     "output_type": "display_data"
    }
   ],
   "source": [
    "# set sensors, use empty list for all\n",
    "sensors = ['A1', 'A2', 'A3', 'A4']\n",
    "\n",
    "# automatically get the indices and data\n",
    "sensor_indices = get_id_indices(ds, sensors)\n",
    "display(sensor_indices)"
   ]
  },
  {
   "cell_type": "markdown",
   "id": "353e4448",
   "metadata": {},
   "source": [
    "### Timeseries of specified variable for specified sensors"
   ]
  },
  {
   "cell_type": "code",
   "execution_count": 34,
   "id": "f7ce0c39",
   "metadata": {},
   "outputs": [
    {
     "data": {
      "text/plain": [
       "Data variables:\n",
       "    u           (minute, loc) float64 -0.05152 -0.1179 ... -0.1648 -0.3194\n",
       "    v           (minute, loc) float64 0.7642 0.9007 0.8588 ... 0.5948 0.662\n",
       "    w           (minute, loc) float64 -0.0218 -0.01198 ... -0.06341 -0.06387\n",
       "    error_code  (minute, loc) float64 0.0 0.0 0.0 0.0 0.0 ... 0.0 0.0 0.0 0.0\n",
       "    speed       (minute, loc) float64 1.067 1.205 1.207 ... 0.9611 1.062 1.042\n",
       "    uv_speed    (minute, loc) float64 1.04 1.178 1.178 ... 0.8733 0.9986 0.9876\n",
       "    uv_bearing  (minute, loc) float64 188.5 185.9 204.1 ... 168.0 192.8 221.7\n",
       "    w_speed     (minute, loc) float64 0.1873 0.1855 0.197 ... 0.2478 0.2245\n",
       "    w_dir       (minute, loc) float64 -0.1042 -0.03 0.0025 ... -0.1217 -0.2475"
      ]
     },
     "metadata": {},
     "output_type": "display_data"
    }
   ],
   "source": [
    "# Show variable options\n",
    "display(ds.data_vars)"
   ]
  },
  {
   "cell_type": "code",
   "execution_count": 35,
   "id": "1a367a31",
   "metadata": {},
   "outputs": [
    {
     "name": "stdout",
     "output_type": "stream",
     "text": [
      "uv_speed Timeseries: Minute-aggregated data\n"
     ]
    },
    {
     "data": {
      "image/png": "[encoded data removed]",
      "text/plain": [
       "<Figure size 1080x864 with 1 Axes>"
      ]
     },
     "metadata": {
      "needs_background": "light"
     },
     "output_type": "display_data"
    }
   ],
   "source": [
    "# select variable\n",
    "var = 'uv_speed'\n",
    "print(f'{var} Timeseries: {res} data')\n",
    "\n",
    "# slice data\n",
    "var_slice = ds[var].isel(dict(loc=sensor_indices))\n",
    "\n",
    "# generate linear timeseries figure\n",
    "fig, axs = plt.subplots(figsize=(15, 12))\n",
    "f = xplt.line(var_slice, ax=axs, x=dim, add_legend=False)\n",
    "axs.legend(handles=f, labels=list(var_slice.id.values), title='Sensor', loc='upper right', bbox_to_anchor=(1.1, 1.01))\n",
    "\n",
    "line_colors = {}\n",
    "for line_id, f_line in zip(var_slice.id.values, f):\n",
    "    line_colors[line_id] = f_line.get_c()"
   ]
  },
  {
   "cell_type": "markdown",
   "id": "10576180",
   "metadata": {},
   "source": [
    "### Timeseries of bearing"
   ]
  },
  {
   "cell_type": "code",
   "execution_count": 36,
   "id": "6b0caaba",
   "metadata": {},
   "outputs": [
    {
     "name": "stdout",
     "output_type": "stream",
     "text": [
      "Bearing Timeseries: Minute-aggregated data\n"
     ]
    },
    {
     "data": {
      "image/png": "[encoded data removed]",
      "text/plain": [
       "<Figure size 1080x864 with 1 Axes>"
      ]
     },
     "metadata": {
      "needs_background": "light"
     },
     "output_type": "display_data"
    }
   ],
   "source": [
    "print(f'Bearing Timeseries: {res} data')\n",
    "\n",
    "# slice data\n",
    "var_slice = ds[var].isel(dict(loc=sensor_indices))\n",
    "count = len(var_slice.id.values)\n",
    "u_slice = ds['u'].isel(dict(loc=sensor_indices))\n",
    "v_slice = ds['v'].isel(dict(loc=sensor_indices))\n",
    "\n",
    "# set up figure configuration\n",
    "ylim = [var_slice.min().values, var_slice.max().values]\n",
    "axs_buffer = [5, 1]\n",
    "\n",
    "# generate linear timeseries figure\n",
    "fig, axs = plt.subplots(figsize=(15, 12))\n",
    "axs.set_xlim([var_slice[dim][0] - 2 * axs_buffer[0], var_slice[dim][-1] + axs_buffer[0]])\n",
    "axs.set_ylim([-axs_buffer[1], count + axs_buffer[1] - 1])\n",
    "axs.set_ylabel('Sensor'); axs.set_xlabel(dim)\n",
    "\n",
    "for idx in range(0, count):\n",
    "    sid = list(var_slice.id.values)[idx]\n",
    "    scol = line_colors[sid]\n",
    "    Q = axs.quiver(var_slice[dim], np.full(var_slice[dim].shape[0], idx), u_slice.isel(loc=idx).values, v_slice.isel(loc=idx).values, \n",
    "                   pivot='mid', units='width', color=scol)\n",
    "    qk = axs.quiverkey(Q, 0.9, 0.9, 1, r'$1 \\frac{m}{s}$', labelpos='E', coordinates='figure')\n",
    "    axs.text(var_slice[dim][0] - axs_buffer[0], idx, sid, color=scol, fontsize=18)\n"
   ]
  },
  {
   "cell_type": "markdown",
   "id": "230adf25",
   "metadata": {},
   "source": [
    "### Individual plots of speed + bearing / direction for single specified sensor"
   ]
  },
  {
   "cell_type": "code",
   "execution_count": 37,
   "id": "7db3d8a9",
   "metadata": {},
   "outputs": [
    {
     "name": "stdout",
     "output_type": "stream",
     "text": [
      "uv_speed + Bearing Timeseries for sensor A1: Minute-aggregated data\n"
     ]
    },
    {
     "data": {
      "image/png": "[encoded data removed]",
      "text/plain": [
       "<Figure size 1080x864 with 1 Axes>"
      ]
     },
     "metadata": {
      "needs_background": "light"
     },
     "output_type": "display_data"
    }
   ],
   "source": [
    "sid = 'A1'\n",
    "sidx = get_id_indices(ds, [sid])[0]\n",
    "\n",
    "# select variable\n",
    "var = 'uv_speed'\n",
    "print(f'{var} + Bearing Timeseries for sensor {sid}: {res} data')\n",
    "\n",
    "# slice data\n",
    "var_slice = ds[var].isel(dict(loc=sidx))\n",
    "u_slice = ds['u'].isel(dict(loc=sidx))\n",
    "v_slice = ds['v'].isel(dict(loc=sidx))\n",
    "try:\n",
    "    scol = line_colors[sid]\n",
    "except:\n",
    "    scol = 'black'\n",
    "\n",
    "# set up figure configuration\n",
    "ylim = [var_slice.min().values, var_slice.max().values]\n",
    "axs_buffer = [5, 0.1]\n",
    "\n",
    "# generate linear timeseries figure\n",
    "fig, axs = plt.subplots(figsize=(15, 12))\n",
    "axs.set_xlim([var_slice[dim][0] - axs_buffer[0], var_slice[dim][-1] + axs_buffer[0]])\n",
    "axs.set_ylim([ylim[0] - axs_buffer[1] * (ylim[1]-ylim[0]), ylim[1] + axs_buffer[1] * (ylim[1]-ylim[0])])\n",
    "axs.set_ylabel(var); axs.set_xlabel(dim)\n",
    "\n",
    "axs.plot(var_slice[dim], var_slice.values)\n",
    "Q = axs.quiver(var_slice[dim], np.full(var_slice[dim].shape[0], ylim[0] - axs_buffer[1]/3 * (ylim[1]-ylim[0])), u_slice.values, v_slice.values, \n",
    "               pivot='mid', units='width', color=scol)\n",
    "qk = axs.quiverkey(Q, 0.9, 0.9, 1, r'$1 \\frac{m}{s}$', labelpos='E', coordinates='figure')\n",
    "t = axs.text(var_slice[dim][0], ylim[1], sid, color=scol, fontsize=18)"
   ]
  },
  {
   "cell_type": "code",
   "execution_count": null,
   "id": "20d0927f",
   "metadata": {},
   "outputs": [],
   "source": []
  }
 ],
 "metadata": {
  "kernelspec": {
   "display_name": "Python 3 (ipykernel)",
   "language": "python",
   "name": "python3"
  },
  "language_info": {
   "codemirror_mode": {
    "name": "ipython",
    "version": 3
   },
   "file_extension": ".py",
   "mimetype": "text/x-python",
   "name": "python",
   "nbconvert_exporter": "python",
   "pygments_lexer": "ipython3",
   "version": "3.9.7"
  }
 },
 "nbformat": 4,
 "nbformat_minor": 5
}
